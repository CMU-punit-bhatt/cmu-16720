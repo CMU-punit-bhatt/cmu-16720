{
 "cells": [
  {
   "cell_type": "markdown",
   "id": "ee7e38de",
   "metadata": {},
   "source": [
    "<img align=\"center\" src=\"figures/course.png\" width=\"800\">\n",
    "\n",
    "#                                    16720 (B) Neural Networks for Recognition - Assignment 3\n",
    "\n",
    "     Instructor: Kris Kitani                       TAs: Qichen(Lead), Paritosh, Rawal, Yan, Zen, Wen-Hsuan"
   ]
  },
  {
   "cell_type": "markdown",
   "id": "181fc55a",
   "metadata": {
    "deletable": false,
    "editable": false,
    "nbgrader": {
     "cell_type": "markdown",
     "checksum": "737919867883dfce32adfbc15798cb81",
     "grade": false,
     "grade_id": "cell-f291112cfcde74fa",
     "locked": true,
     "schema_version": 3,
     "solution": false,
     "task": false
    }
   },
   "source": [
    "## Q5 Image Compression with Autoencoders [Extra Credit](25 points)\n",
    "\n",
    "**Note: We would recommend finishing Question 7 (pytorch) before attempting this question**\n",
    "\n",
    "**Please include all the write up answers below to theory.ipynb. For the questions need code, you need to include the screenshot of code to theory.ipynb to get points.**\n",
    "\n",
    "An autoencoder is a neural network that is trained to attempt to copy its input to its output, but it usually allows copying only approximately. This is typically achieved by restricting the number of hidden nodes inside the autoencoder; in other words, the autoencoder would be forced to learn to \\textit{represent} data with this limited number of hidden nodes. This is a useful way of learning compressed representations.\n",
    "In this section, we will continue using the NIST36 dataset you have from the previous questions."
   ]
  },
  {
   "cell_type": "markdown",
   "id": "36d297f1",
   "metadata": {
    "deletable": false,
    "editable": false,
    "nbgrader": {
     "cell_type": "markdown",
     "checksum": "0992c4abec48e0c94b6f980a26cfb540",
     "grade": false,
     "grade_id": "cell-828e60b98b663679",
     "locked": true,
     "schema_version": 3,
     "solution": false,
     "task": false
    }
   },
   "source": [
    "### Q5.1 Building the Autoencoder"
   ]
  },
  {
   "cell_type": "markdown",
   "id": "9033a3c7",
   "metadata": {
    "deletable": false,
    "editable": false,
    "nbgrader": {
     "cell_type": "markdown",
     "checksum": "9778b8e3b3d1cf77661823df6ebbd58c",
     "grade": false,
     "grade_id": "cell-d40ca2df0f7c8099",
     "locked": true,
     "schema_version": 3,
     "solution": false,
     "task": false
    }
   },
   "source": [
    "#### Q5.1.1 (10 points Code)\n",
    "\n",
    "Due to the difficulty in training auto-encoders, we have to move to the $relu(x) = max(x,0)$ activation function. It is provided for you in **q2.ipynb**. Implement a 2 hidden layer autoencoder where the layers are \n",
    "1. 1024 to 32 dimensions, followed by a ReLU\n",
    "2. 32 to 32 dimensions, followed by a ReLU\n",
    "3. 32 to 32 dimensions, followed by a ReLU\n",
    "4. 32 to 1024 dimensions, followed by a sigmoid (this normalizes the image output for us)\n",
    "\n",
    "The loss function that you're using is total squared error for the output image compared to the input image (they should be the same!).  \n",
    "\n",
    "<font color=\"red\">**Please include the screenshot of code to theory.ipynb**</font>"
   ]
  },
  {
   "cell_type": "code",
   "execution_count": 1,
   "id": "802c18d6",
   "metadata": {
    "deletable": false,
    "nbgrader": {
     "cell_type": "code",
     "checksum": "6e0534a66471434628ed30f3615b2a2e",
     "grade": true,
     "grade_id": "cell-cc6ea456439be63f",
     "locked": false,
     "points": 10,
     "schema_version": 3,
     "solution": true,
     "task": false
    }
   },
   "outputs": [],
   "source": [
    "import matplotlib.pyplot as plt\n",
    "import numpy as np\n",
    "import scipy.io\n",
    "from ipynb.fs.defs.q2 import *\n",
    "from collections import Counter\n",
    "\n",
    "train_data = scipy.io.loadmat('data/nist36_train.mat')\n",
    "valid_data = scipy.io.loadmat('data/nist36_valid.mat')\n",
    "\n",
    "# we don't need labels now!\n",
    "train_x = train_data['train_data']\n",
    "valid_x = valid_data['valid_data']\n",
    "\n",
    "max_iters = 150\n",
    "# pick a batch size, initial learning rate\n",
    "batch_size = 8\n",
    "learning_rate = 1e-3\n",
    "hidden_size = 32\n",
    "lr_rate = 50\n",
    "\n",
    "batches = get_random_batches(train_x,np.ones((train_x.shape[0],1)),batch_size)\n",
    "batch_num = len(batches)\n",
    "\n",
    "params = Counter()\n",
    "\n",
    "np.random.seed(0)\n",
    "\n",
    "# initialize layers here\n",
    "initialize_weights(1024, hidden_size, params, 'layer1')\n",
    "initialize_weights(hidden_size, hidden_size, params, 'layer2')\n",
    "initialize_weights(hidden_size, hidden_size, params, 'layer3')\n",
    "initialize_weights(hidden_size, 1024, params, 'output')\n",
    "\n"
   ]
  },
  {
   "cell_type": "markdown",
   "id": "1e12f361",
   "metadata": {
    "deletable": false,
    "editable": false,
    "nbgrader": {
     "cell_type": "markdown",
     "checksum": "d573c588224d82e8fbec271a4d885de1",
     "grade": false,
     "grade_id": "cell-600fa8f7515e6c59",
     "locked": true,
     "schema_version": 3,
     "solution": false,
     "task": false
    }
   },
   "source": [
    "#### Q5.1.2 (5 points Autograder)\n",
    "\n",
    "To help even more with convergence speed, we will implement [momentum](http://cs231n.github.io/neural-networks-3/#sgd). Now, instead of updating $W = W - \\alpha \\frac{\\partial J}{\\partial W}$, we will use the update rules $M_W = 0.9 M_W - \\alpha \\frac{\\partial J}{\\partial W}$ and $W = W + M_W$. To implement this, populate the parameters dictionary with zero-initialized momentum accumulators, one for each parameter. Then simply perform both update equations for every batch."
   ]
  },
  {
   "cell_type": "code",
   "execution_count": 2,
   "id": "70028530",
   "metadata": {
    "deletable": false,
    "nbgrader": {
     "cell_type": "code",
     "checksum": "e833970e695f5ee22efe576f334c91a8",
     "grade": false,
     "grade_id": "cell-66f9e19daafebb39",
     "locked": false,
     "schema_version": 3,
     "solution": true,
     "task": false
    }
   },
   "outputs": [],
   "source": [
    "def momentum_update(w: np.ndarray, m_w: np.ndarray, grad_w: np.ndarray, alpha: float, momentum: float=0.9):\n",
    "    '''\n",
    "    Momentum update\n",
    "    \n",
    "    [input]\n",
    "    * w -- parameters\n",
    "    * m_w -- the momentum of the parameters\n",
    "    * grad_x -- parameter gradients\n",
    "    * alpha -- learning rate\n",
    "    * momentum -- the momentum factor\n",
    "    \n",
    "    [output]\n",
    "    * w -- updated parameters\n",
    "    * m_w -- updated momentum of the parameters\n",
    "    '''\n",
    "    # YOUR CODE HERE\n",
    "    m_w = momentum * m_w - alpha * grad_w\n",
    "    w = w + m_w\n",
    "\n",
    "    return w, m_w"
   ]
  },
  {
   "cell_type": "code",
   "execution_count": null,
   "id": "c50f6469",
   "metadata": {
    "deletable": false,
    "editable": false,
    "nbgrader": {
     "cell_type": "code",
     "checksum": "7b30313949205258b8d3dd84cbd897be",
     "grade": true,
     "grade_id": "q5_1",
     "locked": true,
     "points": 5,
     "schema_version": 3,
     "solution": false,
     "task": false
    }
   },
   "outputs": [],
   "source": []
  },
  {
   "cell_type": "markdown",
   "id": "7099b1da",
   "metadata": {
    "deletable": false,
    "editable": false,
    "nbgrader": {
     "cell_type": "markdown",
     "checksum": "c8f61aeb5a28b505c9906e99c355c079",
     "grade": false,
     "grade_id": "cell-089645328d854467",
     "locked": true,
     "schema_version": 3,
     "solution": false,
     "task": false
    }
   },
   "source": [
    "### Q5.2 Training the Autoencoder (3 Points Code+WriteUp)\n",
    " \n",
    "Using the provided default settings, train the network for 100 epochs. What do you observe in the plotted training loss curve as it progresses?\n",
    "\n",
    "\n",
    "<font color=\"red\">**Please include the write up answer and the screenshot of code to theory.ipynb**</font>"
   ]
  },
  {
   "cell_type": "code",
   "execution_count": 3,
   "id": "32f3d256",
   "metadata": {
    "deletable": false,
    "nbgrader": {
     "cell_type": "code",
     "checksum": "e18ce7f4deb0e9216b5ba8bf8c024704",
     "grade": true,
     "grade_id": "cell-febb64f32656ffc2",
     "locked": false,
     "points": 3,
     "schema_version": 3,
     "solution": true,
     "task": false
    }
   },
   "outputs": [
    {
     "name": "stdout",
     "output_type": "stream",
     "text": [
      "itr: 00 \t loss: 88124.55\n",
      "itr: 02 \t loss: 58663.20\n",
      "itr: 04 \t loss: 53358.63\n",
      "itr: 06 \t loss: 52693.82\n",
      "itr: 08 \t loss: 52014.26\n",
      "itr: 10 \t loss: 51038.90\n",
      "itr: 12 \t loss: 50625.83\n",
      "itr: 14 \t loss: 50811.76\n",
      "itr: 16 \t loss: 50319.62\n",
      "itr: 18 \t loss: 50033.32\n",
      "itr: 20 \t loss: 49776.74\n",
      "itr: 22 \t loss: 49461.15\n",
      "itr: 24 \t loss: 49374.22\n",
      "itr: 26 \t loss: 49273.12\n",
      "itr: 28 \t loss: 48976.03\n",
      "itr: 30 \t loss: 49017.11\n",
      "itr: 32 \t loss: 48831.78\n",
      "itr: 34 \t loss: 48741.35\n",
      "itr: 36 \t loss: 48669.74\n",
      "itr: 38 \t loss: 48458.96\n",
      "itr: 40 \t loss: 48230.41\n",
      "itr: 42 \t loss: 48241.86\n",
      "itr: 44 \t loss: 48182.68\n",
      "itr: 46 \t loss: 48280.13\n",
      "itr: 48 \t loss: 47680.98\n",
      "itr: 50 \t loss: 46798.69\n",
      "itr: 52 \t loss: 46362.98\n",
      "itr: 54 \t loss: 46576.66\n",
      "itr: 56 \t loss: 46592.27\n",
      "itr: 58 \t loss: 46521.28\n",
      "itr: 60 \t loss: 46557.67\n",
      "itr: 62 \t loss: 46499.75\n",
      "itr: 64 \t loss: 46203.00\n",
      "itr: 66 \t loss: 46324.24\n",
      "itr: 68 \t loss: 46308.23\n",
      "itr: 70 \t loss: 46209.18\n",
      "itr: 72 \t loss: 46253.50\n",
      "itr: 74 \t loss: 46126.29\n",
      "itr: 76 \t loss: 46568.16\n",
      "itr: 78 \t loss: 45948.45\n",
      "itr: 80 \t loss: 45887.18\n",
      "itr: 82 \t loss: 46236.73\n",
      "itr: 84 \t loss: 46210.06\n",
      "itr: 86 \t loss: 46216.42\n",
      "itr: 88 \t loss: 46043.87\n",
      "itr: 90 \t loss: 46244.65\n",
      "itr: 92 \t loss: 45981.41\n",
      "itr: 94 \t loss: 45928.27\n",
      "itr: 96 \t loss: 46122.36\n",
      "itr: 98 \t loss: 45994.30\n",
      "itr: 100 \t loss: 45140.90\n",
      "itr: 102 \t loss: 44795.66\n",
      "itr: 104 \t loss: 44907.19\n",
      "itr: 106 \t loss: 44987.75\n",
      "itr: 108 \t loss: 44933.52\n",
      "itr: 110 \t loss: 45022.08\n",
      "itr: 112 \t loss: 44700.74\n",
      "itr: 114 \t loss: 44797.25\n",
      "itr: 116 \t loss: 44469.74\n",
      "itr: 118 \t loss: 44704.32\n",
      "itr: 120 \t loss: 44711.45\n",
      "itr: 122 \t loss: 44808.82\n",
      "itr: 124 \t loss: 44715.26\n",
      "itr: 126 \t loss: 44695.44\n",
      "itr: 128 \t loss: 44585.34\n",
      "itr: 130 \t loss: 44614.09\n",
      "itr: 132 \t loss: 44609.81\n",
      "itr: 134 \t loss: 44656.85\n",
      "itr: 136 \t loss: 44550.28\n",
      "itr: 138 \t loss: 44390.37\n",
      "itr: 140 \t loss: 44523.18\n",
      "itr: 142 \t loss: 44670.83\n",
      "itr: 144 \t loss: 44798.22\n",
      "itr: 146 \t loss: 44404.86\n",
      "itr: 148 \t loss: 44633.59\n"
     ]
    },
    {
     "data": {
      "image/png": "[encoded data removed]",
      "text/plain": [
       "<Figure size 432x288 with 1 Axes>"
      ]
     },
     "metadata": {
      "needs_background": "light"
     },
     "output_type": "display_data"
    }
   ],
   "source": [
    "train_loss = []\n",
    "\n",
    "# should look like your previous training loops\n",
    "for itr in range(max_iters):\n",
    "    total_loss = 0\n",
    "    for xb,_ in batches:\n",
    "        \n",
    "        # https://datascience.stackexchange.com/a/19581\n",
    "        \n",
    "        a1 = forward(xb, params, 'layer1', relu)\n",
    "        a2 = forward(a1, params, 'layer2', relu)\n",
    "        a3 = forward(a2, params, 'layer3', relu)\n",
    "        out = forward(a3, params, 'output', sigmoid)\n",
    "        \n",
    "        # loss\n",
    "        total_loss += (np.mean(np.sum((xb - out) ** 2, axis=1)))\n",
    "        \n",
    "        delta1 = 2 * (out - xb) / xb.shape[0]\n",
    "        delta2 = backwards(delta1, params, 'output', sigmoid_deriv)\n",
    "        delta3 = backwards(delta2, params, 'layer3', relu_deriv)\n",
    "        delta4 = backwards(delta3, params, 'layer2', relu_deriv)\n",
    "        delta5 = backwards(delta4, params, 'layer1', relu_deriv)\n",
    "        \n",
    "        # apply gradient\n",
    "#         params['W' + 'output'] -= (learning_rate * params['grad_W' + 'output'])\n",
    "#         params['b' + 'output'] -= (learning_rate * params['grad_b' + 'output'])\n",
    "#         params['W' + 'layer1'] -= (learning_rate * params['grad_W' + 'layer1'])\n",
    "#         params['b' + 'layer1'] -= (learning_rate * params['grad_b' + 'layer1'])\n",
    "#         params['W' + 'layer2'] -= (learning_rate * params['grad_W' + 'layer2'])\n",
    "#         params['b' + 'layer2'] -= (learning_rate * params['grad_b' + 'layer2'])\n",
    "#         params['W' + 'layer3'] -= (learning_rate * params['grad_W' + 'layer3'])\n",
    "#         params['b' + 'layer3'] -= (learning_rate * params['grad_b' + 'layer3'])\n",
    "        \n",
    "        \n",
    "        # apply gradient with momentum\n",
    "        params['W' + 'output'], params['m_W' + 'output'] = momentum_update(params['W' + 'output'],\n",
    "                                                                           params['m_W' + 'output'],\n",
    "                                                                           params['grad_W' + 'output'],\n",
    "                                                                           learning_rate)\n",
    "        params['W' + 'layer1'], params['m_W' + 'layer1'] = momentum_update(params['W' + 'layer1'],\n",
    "                                                                           params['m_W' + 'layer1'],\n",
    "                                                                           params['grad_W' + 'layer1'],\n",
    "                                                                           learning_rate)\n",
    "        params['W' + 'layer2'], params['m_W' + 'layer2'] = momentum_update(params['W' + 'layer2'],\n",
    "                                                                           params['m_W' + 'layer2'],\n",
    "                                                                           params['grad_W' + 'layer2'],\n",
    "                                                                           learning_rate)\n",
    "        params['W' + 'layer3'], params['m_W' + 'layer3'] = momentum_update(params['W' + 'layer3'],\n",
    "                                                                           params['m_W' + 'layer3'],\n",
    "                                                                           params['grad_W' + 'layer3'],\n",
    "                                                                           learning_rate)\n",
    "        params['b' + 'output'], params['m_b' + 'output'] = momentum_update(params['b' + 'output'],\n",
    "                                                                           params['m_b' + 'output'],\n",
    "                                                                           params['grad_b' + 'output'],\n",
    "                                                                           learning_rate)\n",
    "        params['b' + 'layer1'], params['m_b' + 'layer1'] = momentum_update(params['b' + 'layer1'],\n",
    "                                                                           params['m_b' + 'layer1'],\n",
    "                                                                           params['grad_b' + 'layer1'],\n",
    "                                                                           learning_rate)\n",
    "        params['b' + 'layer2'], params['m_b' + 'layer2'] = momentum_update(params['b' + 'layer2'],\n",
    "                                                                           params['m_b' + 'layer2'],\n",
    "                                                                           params['grad_b' + 'layer2'],\n",
    "                                                                           learning_rate)\n",
    "        params['b' + 'layer3'], params['m_b' + 'layer3'] = momentum_update(params['b' + 'layer3'],\n",
    "                                                                           params['m_b' + 'layer3'],\n",
    "                                                                           params['grad_b' + 'layer3'],\n",
    "                                                                           learning_rate)\n",
    "        # training loop can be exactly the same as q2!\n",
    "        # your loss is now squared error\n",
    "        # delta is the d/dx of (x-y)^2\n",
    "        # to implement momentum\n",
    "        #   just use 'm_'+name variables\n",
    "        #   to keep a saved value over timestamps\n",
    "        #   params is a Counter(), which returns a 0 if an element is missing\n",
    "        #   so you should be able to write your loop without any special conditions\n",
    "    if itr % 2 == 0:\n",
    "        print(\"itr: {:02d} \\t loss: {:.2f}\".format(itr,total_loss))\n",
    "    if itr % lr_rate == lr_rate-1:\n",
    "        learning_rate *= 0.9\n",
    "    \n",
    "    train_loss.append(total_loss)\n",
    "\n",
    "train_loss = [loss / train_x.shape[0] for loss in train_loss]\n",
    "\n",
    "plt.plot(list(range(1, max_iters + 1)), train_loss, 'ro-', label='Training')\n",
    "plt.xlabel('Epochs')\n",
    "plt.ylabel('Loss')\n",
    "plt.legend()\n",
    "plt.show()"
   ]
  },
  {
   "cell_type": "markdown",
   "id": "e20fc28e",
   "metadata": {
    "deletable": false,
    "editable": false,
    "nbgrader": {
     "cell_type": "markdown",
     "checksum": "c9106f19d2f0217cefffac6ada3a7631",
     "grade": false,
     "grade_id": "cell-6381f226480d9af4",
     "locked": true,
     "schema_version": 3,
     "solution": false,
     "task": false
    }
   },
   "source": [
    "### Q5.3 Evaluating the Autoencoder"
   ]
  },
  {
   "cell_type": "markdown",
   "id": "f4100993",
   "metadata": {
    "deletable": false,
    "editable": false,
    "nbgrader": {
     "cell_type": "markdown",
     "checksum": "9c3ce51a6849007c8baad2ecc6267672",
     "grade": false,
     "grade_id": "cell-611ea4c42210a70c",
     "locked": true,
     "schema_version": 3,
     "solution": false,
     "task": false
    }
   },
   "source": [
    "#### Q5.3.1(4 Points Code+WriteUp)\n",
    " \n",
    "Now let’s evaluate how well the autoencoder has been trained.\n",
    " Select 5 classes from the total 36 classes in your dataset and for each selected class include in your report 2 validation images and their reconstruction. What differences do you observe that exist in the reconstructed validation images, compared to the original ones?\n",
    "\n",
    "\n",
    "<font color=\"red\">**Please include the write up answer and the screenshot of code to theory.ipynb**</font>"
   ]
  },
  {
   "cell_type": "code",
   "execution_count": 4,
   "id": "6ee87399",
   "metadata": {
    "deletable": false,
    "nbgrader": {
     "cell_type": "code",
     "checksum": "4edb1850abfcc5f05ca202b8126fd7f1",
     "grade": true,
     "grade_id": "cell-42062ddbe8ee4571",
     "locked": false,
     "points": 4,
     "schema_version": 3,
     "solution": true,
     "task": false
    }
   },
   "outputs": [
    {
     "data": {
      "image/png": "[encoded data removed]",
      "text/plain": [
       "<Figure size 432x288 with 4 Axes>"
      ]
     },
     "metadata": {
      "needs_background": "light"
     },
     "output_type": "display_data"
    },
    {
     "data": {
      "image/png": "[encoded data removed]",
      "text/plain": [
       "<Figure size 432x288 with 4 Axes>"
      ]
     },
     "metadata": {
      "needs_background": "light"
     },
     "output_type": "display_data"
    },
    {
     "data": {
      "image/png": "[encoded data removed]",
      "text/plain": [
       "<Figure size 432x288 with 4 Axes>"
      ]
     },
     "metadata": {
      "needs_background": "light"
     },
     "output_type": "display_data"
    },
    {
     "data": {
      "image/png": "[encoded data removed]",
      "text/plain": [
       "<Figure size 432x288 with 4 Axes>"
      ]
     },
     "metadata": {
      "needs_background": "light"
     },
     "output_type": "display_data"
    },
    {
     "data": {
      "image/png": "[encoded data removed]",
      "text/plain": [
       "<Figure size 432x288 with 4 Axes>"
      ]
     },
     "metadata": {
      "needs_background": "light"
     },
     "output_type": "display_data"
    }
   ],
   "source": [
    "import matplotlib.pyplot as plt\n",
    "\n",
    "classes = np.random.permutation(36)[:5]\n",
    "valid_x = valid_data['valid_data']\n",
    "valid_y = np.argmax(valid_data['valid_labels'], axis=1)\n",
    "\n",
    "for i in range(len(classes)):\n",
    "    image_idx = np.argwhere(valid_y == classes[i])[:2]\n",
    "    fig, ax = plt.subplots(2, 2)\n",
    "    \n",
    "    a1 = forward(valid_x[image_idx[0]].reshape(1, -1), params, 'layer1', relu)\n",
    "    a2 = forward(a1, params, 'layer2', relu)\n",
    "    a3 = forward(a2, params, 'layer3', relu)\n",
    "    out = forward(a3, params, 'output', sigmoid)\n",
    "    \n",
    "    ax[0][0].imshow(valid_x[image_idx[0]].reshape(32, 32))\n",
    "    ax[0][0].set_title(str(classes[i]))    \n",
    "    ax[0][1].imshow(out.reshape(32, 32))\n",
    "    ax[0][1].set_title(str(classes[i]))\n",
    "    \n",
    "    a1 = forward(valid_x[image_idx[1]].reshape(1, -1), params, 'layer1', relu)\n",
    "    a2 = forward(a1, params, 'layer2', relu)\n",
    "    a3 = forward(a2, params, 'layer3', relu)\n",
    "    out = forward(a3, params, 'output', sigmoid)\n",
    "    \n",
    "    ax[1][0].imshow(valid_x[image_idx[1]].reshape(32, 32))\n",
    "    ax[1][0].set_title(str(classes[i]))\n",
    "    ax[1][1].imshow(out.reshape(32, 32))\n",
    "    ax[1][1].set_title(str(classes[i]))\n",
    "    \n",
    "    plt.show()"
   ]
  },
  {
   "cell_type": "markdown",
   "id": "19e78427",
   "metadata": {
    "deletable": false,
    "editable": false,
    "nbgrader": {
     "cell_type": "markdown",
     "checksum": "4036155a04c3c434109d33bd170db1dc",
     "grade": false,
     "grade_id": "cell-7cc34b3e82122c75",
     "locked": true,
     "schema_version": 3,
     "solution": false,
     "task": false
    }
   },
   "source": [
    "#### Q5.3.2 (3 Points Code+WriteUp)\n",
    " \n",
    "Let’s evaluate the reconstruction quality using Peak Signal- to-noise Ratio (PSNR). PSNR is defined as\n",
    "\\begin{align}\n",
    "\\text{PSNR} = 20 \\times \\log_{10}(\\text{MAX}_I) - 10\\times \\log_{10}(\\text{MSE})\n",
    "\\end{align}\n",
    "where $\\text{MAX}_I$ is the maximum possible pixel value of the image, and $\\text{MSE}$ (mean squared error) is computed across all pixels. You may use [skimage.measure.compare\\_psnr](http://scikit-image.org/docs/dev/api/skimage.measure.html#skimage.measure.compare_psnr) for convenience. Report the average PSNR you get from the autoencoder across all validation images.\n",
    "\n",
    "<font color=\"red\">**Please include the write up answer to theory.ipynb**</font>"
   ]
  },
  {
   "cell_type": "code",
   "execution_count": 5,
   "id": "9cf1baeb",
   "metadata": {
    "deletable": false,
    "nbgrader": {
     "cell_type": "code",
     "checksum": "efe342abe47fa951194f5eb0bf7ecb4d",
     "grade": true,
     "grade_id": "cell-9f178c21881431bf",
     "locked": false,
     "points": 3,
     "schema_version": 3,
     "solution": true,
     "task": false
    }
   },
   "outputs": [
    {
     "name": "stdout",
     "output_type": "stream",
     "text": [
      "Mean PSNR - 15.063606382640828\n"
     ]
    }
   ],
   "source": [
    "from skimage.metrics import peak_signal_noise_ratio as psnr\n",
    "# evaluate PSNR\n",
    "\n",
    "valid_x = valid_data['valid_data']\n",
    "\n",
    "total_psnr = 0.\n",
    "\n",
    "for i in range(valid_x.shape[0]):\n",
    "    \n",
    "    a1 = forward(valid_x[i].reshape(1, -1), params, 'layer1', relu)\n",
    "    a2 = forward(a1, params, 'layer2', relu)\n",
    "    a3 = forward(a2, params, 'layer3', relu)\n",
    "    out = forward(a3, params, 'output', sigmoid)\n",
    "    \n",
    "    total_psnr += psnr(valid_x[i].reshape(1, -1), out.reshape(1, -1))\n",
    "\n",
    "print('Mean PSNR - {}'.format(total_psnr / valid_x.shape[0]))"
   ]
  },
  {
   "cell_type": "code",
   "execution_count": null,
   "id": "ec460e01",
   "metadata": {},
   "outputs": [],
   "source": []
  }
 ],
 "metadata": {
  "kernelspec": {
   "display_name": "Python 3 (ipykernel)",
   "language": "python",
   "name": "python3"
  },
  "language_info": {
   "codemirror_mode": {
    "name": "ipython",
    "version": 3
   },
   "file_extension": ".py",
   "mimetype": "text/x-python",
   "name": "python",
   "nbconvert_exporter": "python",
   "pygments_lexer": "ipython3",
   "version": "3.8.10"
  }
 },
 "nbformat": 4,
 "nbformat_minor": 5
}
