{
 "cells": [
  {
   "cell_type": "code",
   "execution_count": null,
   "metadata": {},
   "outputs": [],
   "source": []
  },
  {
   "cell_type": "markdown",
   "metadata": {
    "deletable": false,
    "editable": false,
    "nbgrader": {
     "cell_type": "markdown",
     "checksum": "88368d998ae6f13b66528ed7450a5e6c",
     "grade": false,
     "grade_id": "header",
     "locked": true,
     "schema_version": 3,
     "solution": false,
     "task": false
    }
   },
   "source": [
    "<img align=\"center\" src=\"data/handout/course.png\" width=\"800\">\n",
    "\n",
    "## Hough Transform - Assignment 1\n",
    "    Instructor: Kris                          TAs: Rawal (Lead), Yan, Zen, Wen-Hsuan, Paritosh, Qichen\n",
    "\n",
    "In this assignment you will be implementing a Hough Transform based line detector. \n",
    "\n",
    "<img align=\"center\" src=\"data/handout/ht.gif\" width=\"500\">"
   ]
  },
  {
   "cell_type": "markdown",
   "metadata": {
    "deletable": false,
    "editable": false,
    "nbgrader": {
     "cell_type": "markdown",
     "checksum": "e7774173427921d9605c9d2d8c92b534",
     "grade": false,
     "grade_id": "cell-ee45598a54db40ca",
     "locked": true,
     "schema_version": 3,
     "solution": false,
     "task": false
    }
   },
   "source": [
    "---\n",
    "## Theory Questions (25 points)\n",
    "**Grading**: \n",
    "- Each question is 5 points. \n",
    "- Please add your answers to the writeup. Insert images whenever necessary.\n",
    "- Show all your work to obtain full credit."
   ]
  },
  {
   "cell_type": "markdown",
   "metadata": {
    "deletable": false,
    "editable": false,
    "nbgrader": {
     "cell_type": "markdown",
     "checksum": "6d8a7b9a156280b230e157fb68b81da1",
     "grade": false,
     "grade_id": "theory_q1",
     "locked": true,
     "schema_version": 3,
     "solution": false,
     "task": false
    }
   },
   "source": [
    "**Q1**: Show that using $ x\\cos \\theta + y \\sin \\theta - \\rho = 0 $, each image point $(x, y)$ results in a sinsuoid in $(\\rho, \\theta)$ hough space.  \n",
    "Use the formulation, $a \\sin \\theta + b \\cos \\theta = A \\sin(\\theta + \\phi)$ for the sinsuoid.  \n",
    "Write the amplitude \\\\(A \\\\) and phase \\\\( \\phi \\\\) of the sinusoid as a function of \\\\( (x, y) \\\\). "
   ]
  },
  {
   "cell_type": "markdown",
   "metadata": {
    "deletable": false,
    "nbgrader": {
     "cell_type": "markdown",
     "checksum": "b2fff622dd362c71d4a7709f51ac1b55",
     "grade": true,
     "grade_id": "theory_q1_ans",
     "locked": false,
     "points": 5,
     "schema_version": 3,
     "solution": true,
     "task": false
    }
   },
   "source": [
    "Consider the following formula\n",
    "\n",
    "$$a\\sin(\\theta) + b\\cos(\\theta) = A\\sin(\\theta + \\phi) \\tag{0}$$\n",
    "\n",
    "Expanding the RHS\n",
    "\n",
    "$a\\sin(\\theta) + b\\cos(\\theta) = A\\cos(\\phi)\\sin(\\theta) + A\\sin(\\phi)\\cos(\\theta) \\tag{1}$\n",
    "\n",
    "Thus, on comparing RHS and LHS, we get\n",
    "\n",
    "$a = A\\cos(\\phi) \\label{eq2} \\tag{2}$ $b = A\\sin(\\phi) \\tag{3}$\n",
    "\n",
    "Divding (3) by (2), we get\n",
    "\n",
    "$$\\frac{b}{a} = \\frac{\\sin(\\phi)}{\\cos(\\phi)} = \\tan(\\phi)$$$\\newline$\n",
    "$\\therefore \\phi = \\tan^{-1}(\\frac{b}{a}) \\tag{4}$\n",
    "\n",
    "Squaring and adding (2) and (3)\n",
    "\n",
    "$$a^2 + b^2 = A^2\\cos^2(\\phi) + A^2\\sin^2(\\phi) = A^2[\\cos^2(\\phi) + \\sin^2(\\phi)] = A^2$$$\\newline$\n",
    "$\\therefore A = \\sqrt{a^2 + b^2} \\tag{5}$\n",
    "\n",
    "Now, consider the normal form of line equation at any point $(x_1, y_1)$ on the line\n",
    "$$x_1\\cos(\\theta) + y_1\\sin(\\theta) = \\rho$$\n",
    "\n",
    "Based on equation (0), we can change this line equation to\n",
    "$$A\\sin(\\theta + \\phi) = \\rho \\tag{6}$$\n",
    "\n",
    "where, using (3) and (2) respectively,\n",
    "\n",
    "$$x_1 = A\\sin(\\phi)$$ $$y_1 = A\\sin(\\phi)$$\n",
    "\n",
    "Using (4), we get\n",
    "$$\\phi = \\tan^{-1}(\\frac{x_1}{y_1}) \\tag{7}$$\n",
    "\n",
    "Using (5), we get\n",
    "$$A = \\sqrt{x_1^2 +y_1^2} \\tag{8}$$\n",
    "\n",
    "$\\newline\\newline$\n",
    "Thus, from (6), (7) and (8), we can see a point $(x_1, y_1)$ in the normal form of line equation forms a sinusoid ($\\rho = A\\sin(\\theta + \\phi)$) in parameter space with an amplitude, $A = \\sqrt{x_1^2 + y_1^2}$ and phase, $\\phi = \\tan^{-1}(\\frac{x_1}{y_1})$."
   ]
  },
  {
   "cell_type": "markdown",
   "metadata": {
    "deletable": false,
    "editable": false,
    "nbgrader": {
     "cell_type": "markdown",
     "checksum": "8f1899fd8b2e4e3dd9079c2447eed607",
     "grade": false,
     "grade_id": "theory_q2",
     "locked": true,
     "schema_version": 3,
     "solution": false,
     "task": false
    }
   },
   "source": [
    "**Q2**: Why do we parameterize the line in terms of \\\\(\\rho, \\theta\\\\) instead of slope and intercept \\\\((m, c)\\\\)?  \n",
    "Also write the slope \\\\(m\\\\) and intercept \\\\(c\\\\) as a function of \\\\(\\rho\\\\) and \\\\(\\theta\\\\). "
   ]
  },
  {
   "cell_type": "markdown",
   "metadata": {
    "deletable": false,
    "nbgrader": {
     "cell_type": "markdown",
     "checksum": "55f8ec0f1a1d3026da42762e3309b17e",
     "grade": true,
     "grade_id": "theory_q2_ans",
     "locked": false,
     "points": 5,
     "schema_version": 3,
     "solution": true,
     "task": false
    }
   },
   "source": [
    "m (slope) ranges from -$\\infty$ to $\\infty$. With both the parameter space having such huge bounds, the accumulator array (H) would have to be huge. Therefore, very high memory usage and computation cost.\n",
    "However, parameterizing in terms of $\\rho$ and $\\theta$ is better as they have finite range.\n",
    "$0 \\leq \\rho \\leq \\rho_{max}$ and $0 \\leq \\theta \\leq 2\\pi$\n",
    "\n",
    "Writing m and c as function of $\\rho$ and $\\theta$ -\n",
    "$\\newline x\\cos(\\theta) + y\\sin(\\theta) = \\rho\\newline$\n",
    "Rearranging above equation\n",
    "$\\newline y\\sin(\\theta) = (-\\cos(\\theta))x + \\rho\\newline$\n",
    "Dividing both sides by $\\sin(\\theta)$\n",
    "$\\newline y = (-\\frac{\\cos(\\theta)}{\\sin(\\theta)})x + \\frac{\\rho}{\\sin(\\theta)}\\newline$\n",
    "\n",
    "Therefore,\n",
    "\n",
    "$\\newline m = -\\frac{\\cos(\\theta)}{\\sin(\\theta)}$ and $c = \\frac{\\rho}{\\sin(\\theta)}\\newline$"
   ]
  },
  {
   "cell_type": "markdown",
   "metadata": {
    "deletable": false,
    "editable": false,
    "nbgrader": {
     "cell_type": "markdown",
     "checksum": "576d611c2a9de50619a0596b22673783",
     "grade": false,
     "grade_id": "theory_q3",
     "locked": true,
     "schema_version": 3,
     "solution": false,
     "task": false
    }
   },
   "source": [
    "**Q3**: Assume the image points \\\\((x, y)\\\\) are in an image of width \\\\(W\\\\) and height \\\\(H\\\\), \\\\(x \\in [1, W], y \\in [1, H]\\\\).  \n",
    "What is the maximum absolute value of \\\\(\\rho\\\\) and what is the range of \\\\(\\theta\\\\)?"
   ]
  },
  {
   "cell_type": "markdown",
   "metadata": {
    "deletable": false,
    "nbgrader": {
     "cell_type": "markdown",
     "checksum": "57ae4a7360308f9ea4ffde5d34fa0a3e",
     "grade": true,
     "grade_id": "theory_q3_ans",
     "locked": false,
     "points": 5,
     "schema_version": 3,
     "solution": true,
     "task": false
    }
   },
   "source": [
    "$\\rho$ is the distance of the line from the origin. Thus, the farthest line possible would be at a distance same as the length of the diagonal.\n",
    "\n",
    "Therefore, $|\\rho_{max}| = \\sqrt{W^2 + H^2}$\n",
    "\n",
    "If we consider the range of $\\rho$ to be positive - $0 \\leq \\rho \\leq \\rho_{max}$, then $\\theta$ lies in the range - $0 \\leq \\theta \\leq 2\\pi$.\n",
    "If we allow $\\rho$ to take negative values - $-\\rho_{max} \\leq \\rho \\leq \\rho_{max}$, then $\\theta$ lies in the range - $0 \\leq \\theta \\leq \\pi$."
   ]
  },
  {
   "cell_type": "markdown",
   "metadata": {
    "deletable": false,
    "editable": false,
    "nbgrader": {
     "cell_type": "markdown",
     "checksum": "c504a8b632334522118747924e9e249e",
     "grade": false,
     "grade_id": "theory_q4",
     "locked": true,
     "schema_version": 3,
     "solution": false,
     "task": false
    }
   },
   "source": [
    "**Q4**: For points $(10, 10)$, $(15, 15)$ and $(30, 30)$ in the image, plot the corresponding sinusoid waves in Hough space $(\\rho, \\theta)$.  \n",
    "Also visualize how their intersection point defines the line (what is ($m, c$) for this line?).  \n",
    "Please add the plot as image."
   ]
  },
  {
   "cell_type": "markdown",
   "metadata": {
    "deletable": false,
    "nbgrader": {
     "cell_type": "markdown",
     "checksum": "a5145d792542757d2b951105d48cbbcb",
     "grade": true,
     "grade_id": "theory_q4_ans",
     "locked": false,
     "points": 5,
     "schema_version": 3,
     "solution": true,
     "task": false
    }
   },
   "source": [
    "![plot](result_plots/plot_theory_q4.png)\n",
    "\n",
    "The sinusoids intersect at ($\\rho$, $\\theta$) = (0, 2.3561945). This is shown by the black dot in the above plot.\n",
    "\n",
    "By rearranging the normal form of line, we get\n",
    "\n",
    "$\\newline y = (-\\frac{\\cos(\\theta)}{\\sin(\\theta)})x + \\frac{\\rho}{\\sin(\\theta)}\\newline$\n",
    "\n",
    "Therefore,\n",
    "\n",
    "$\\newline m = -\\frac{\\cos(\\theta)}{\\sin(\\theta)}$ and $c = \\frac{\\rho}{\\sin(\\theta)}\\newline$\n",
    "\n",
    "Using the above equations, \n",
    "$\\newline m = -\\frac{\\cos(2.3561945)}{\\sin(2.3561945)} = 1.0000000196153103 \\approx 1$\n",
    "\n",
    "$\\newline c = -\\frac{0}{\\sin(2.3561945)} = 0$\n",
    "\n",
    "Thus, the single intersection point helps us understand that all 3 points lie on the same line. Using the corresponding $\\rho$ and $\\theta$, we can calculate the slope (m) and y-intercept (c).\n",
    "\n",
    "Therefore, the line is - \n",
    "$\\newline y = 1.x + 0 = x$"
   ]
  },
  {
   "cell_type": "markdown",
   "metadata": {
    "deletable": false,
    "editable": false,
    "nbgrader": {
     "cell_type": "markdown",
     "checksum": "5cc16b8a2cb6668755507b6b2a4df324",
     "grade": false,
     "grade_id": "theory_q5",
     "locked": true,
     "schema_version": 3,
     "solution": false,
     "task": false
    }
   },
   "source": [
    "**Q5**: How does the dimension of parameter space affects Hough Transform method? What would you do when the parameter space is high, i.e., 3D or 4D instead of 2D? Briefly explain your method."
   ]
  },
  {
   "cell_type": "markdown",
   "metadata": {
    "deletable": false,
    "nbgrader": {
     "cell_type": "markdown",
     "checksum": "8c8bb0c0b11471122110f0a30f039b46",
     "grade": true,
     "grade_id": "theory_q5_ans",
     "locked": false,
     "points": 5,
     "schema_version": 3,
     "solution": true,
     "task": false
    }
   },
   "source": [
    "As the dimension of the parameter space increases, the dimensions of the corresponding accumulator array of the Hough Transform algorithm increases as well.\n",
    "As the parameter space becomes 3-D, the accumulator needed is a 3-D array. Similarly for 4-D and so on.\n",
    "So, as the dimension of the parameter space increases, the overall computation and memory requirement increases. Thus, the runtime for Hough Transform method increases, making it slower.\n",
    "\n",
    "Consider the equation of a circle of radius r and centered at (a, b) - \n",
    "\n",
    "$\\newline (x - a)^2 + (y - b)^2 = r^2$\n",
    "\n",
    "Here the parameter space would be 3-D - a, b, r.\n",
    "A circle in the cartesian coordinate system would be a point in the Parameter space.\n",
    "\n",
    "Consider 2 points on that circle - (x1, y1) and (x2, y2). There could be an infinite number of circles passing through this points with varied a, b and r.\n",
    "\n",
    "Therefore, in the parameter space, this point (x1, y1) would be represented by\n",
    "\n",
    "$\\newline (a - x1)^2 + (b - y1)^2 = r^2$ where a,b,r are variables.\n",
    "\n",
    "Similarly (x2, y2) would be represented by\n",
    "\n",
    "$\\newline (a - x2)^2 + (b - y2)^2 = r^2$ where a,b,r are variables.\n",
    "\n",
    "In order to solve this, we would create a 3-D accumulator with some fixed range of a, b, r along the 3 dimensions of the array.\n",
    "We could loop over every combination of a and b in the accumulator and calculate r'.\n",
    "We could then round this off to the nearest accumulator r value and increment its vote count.\n",
    "\n",
    "We'll do this for both the points and the a,b,r combination with the highest vote (in this case 2) would represent the a, b, r for the circle containing both these points."
   ]
  }
 ],
 "metadata": {
  "kernelspec": {
   "display_name": "Python 3 (ipykernel)",
   "language": "python",
   "name": "python3"
  },
  "language_info": {
   "codemirror_mode": {
    "name": "ipython",
    "version": 3
   },
   "file_extension": ".py",
   "mimetype": "text/x-python",
   "name": "python",
   "nbconvert_exporter": "python",
   "pygments_lexer": "ipython3",
   "version": "3.8.10"
  },
  "toc": {
   "base_numbering": 1,
   "nav_menu": {},
   "number_sections": true,
   "sideBar": true,
   "skip_h1_title": false,
   "title_cell": "Table of Contents",
   "title_sidebar": "Contents",
   "toc_cell": false,
   "toc_position": {
    "height": "calc(100% - 180px)",
    "left": "10px",
    "top": "150px",
    "width": "384px"
   },
   "toc_section_display": true,
   "toc_window_display": true
  }
 },
 "nbformat": 4,
 "nbformat_minor": 4
}
