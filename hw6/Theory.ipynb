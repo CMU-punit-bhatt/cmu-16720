{
 "cells": [
  {
   "cell_type": "markdown",
   "metadata": {
    "deletable": false,
    "editable": false,
    "nbgrader": {
     "cell_type": "markdown",
     "checksum": "7d652a58cfa010e75d4fa9c7414edd77",
     "grade": false,
     "grade_id": "cell-b2250668e6fbbab8",
     "locked": true,
     "schema_version": 3,
     "solution": false,
     "task": false
    }
   },
   "source": [
    "<img align=\"center\" src=\"img/course.png\" width=\"800\">"
   ]
  },
  {
   "cell_type": "markdown",
   "metadata": {},
   "source": [
    "# 16720 (B)  Object Tracking in Videos - Assignment 6\n",
    "    Instructor: Kris                          TAs: Wen-Hsuan (Lead), Zen, Yan, Rawal, Paritosh, Qichen\n",
    "\n",
    "# Instructions\n",
    "\n",
    "This section should include the visualizations and answers to specifically highlighted questions from Q1 to Q3. This section will need to be uploaded to gradescope as a pdf and manually graded (this is a separate submission from the coding notebooks) \n",
    "\n",
    "\n",
    "1. Students are encouraged to work in groups but each student must submit their own work. Include the names of your collaborators in your write up. Code should <span style='color:red'>Not</span>  be shared or copied. Please properly give credits to others by <span style='color:red'>LISTING EVERY COLLABORATOR</span> in the writeup including any code segments that you discussed,  Please <span style='color:red'>DO NOT</span>  use external code unless permitted. Plagiarism is prohibited and may lead to failure of this course.\n",
    "\n",
    "2.  **Start early!** This homework will take a long time to complete.\n",
    "    \n",
    "3. **Questions:** If you have any question, please look at Piazza first and the FAQ page for this homework.\n",
    "\n",
    "4. All the theory question and manually graded questions should be included in a single writeup (this notebook exported as pdf or a standalone pdf file) and submitted to gradescope: pdf assignment. \n",
    "\n",
    "5. **Attempt to verify your implementation as you proceed:** If you don’t verify that your implementation is correct on toy examples, you will risk having a huge issue when you put everything together. We provide some simple checks in the notebook cells, but make sure you verify them on more complicated samples before moving forward. \n",
    "\n",
    "6. **Do not import external functions/packages other than the ones already imported in the files:** The current imported functions and packages are enough for you to complete this assignment. If you need to import other functions, please remember to comment them out after submission. Our autograder will crash if you import a new function that the gradescope server does not expect. \n",
    "\n",
    "7. Assignments that do not follow this submission rule will be **penalized up to 10\\% of the total score**."
   ]
  },
  {
   "cell_type": "markdown",
   "metadata": {
    "deletable": false,
    "editable": false,
    "nbgrader": {
     "cell_type": "markdown",
     "checksum": "2cbb4a8045c681d69dd2876c6132b780",
     "grade": false,
     "grade_id": "cell-nkj283y4kjfdedsz",
     "locked": true,
     "schema_version": 3,
     "solution": false,
     "task": false
    }
   },
   "source": [
    "# Preliminaries\n",
    "In this section, we will go through some of the basics of the Lucas-Kanade tracker and the Matthews-Baker tracker. The following table contains a summary of the variables used in the rest of the assignment.\n",
    "\n",
    "![title](img/variables.png)\n",
    "\n",
    "## Template\n",
    "A template describes the object of interest (eg. a car, football) which we wish to track in a video. Traditionally, the tracking algorithm is initialized with a template, which is represented by a bounding box around the object to be tracked in the first frame of the video. For each of the subsequent frames in the video, the tracker will update its estimate of the object in the image. The tracker achieves this by updating its affine warp.\n",
    "\n",
    "## Warps\n",
    "What is a warp? An image transformation or warp $\\textbf{W}$ is a function that acts on pixel coordinates $\\textbf{x} = \\left[u\\;\\;v\\right]^T$\n",
    "and maps pixel values from one place to another in an image $\\textbf{x}' =\n",
    "\\left[u'\\;\\;v'\\right]^T$. Simply put, $\\textbf{W}$ maps a pixel with coordinates $\\textbf{x} = \\left[u\\;\\;v\\right]^T$ to $\\textbf{x}' =\n",
    "\\left[u'\\;\\;v'\\right]^T$. Translation, rotation, and scaling are all examples of warps. We denote the parameters of the warp function $\\textbf{W}$ by $\\textbf{p}$: \n",
    "\n",
    "$$\n",
    "\\begin{gathered}\n",
    "\\textbf{x}'= \\textbf{W}(\\textbf{x};\\textbf{p})\n",
    "\\end{gathered}\n",
    "$$\n",
    "\n",
    "## Affine Warp\n",
    "An affine warp is a particular kind of warp that can include any combination of translation, scaling, and rotations. An affine warp can be represented by 6 parameters $\\textbf{p} = [p_1\\;p_2\\;p_3\\;p_4\\;p_5\\;p_6]^{T}$. One of the most convenient things about an affine warp is that it is linear; its action on a point with coordinates $\\textbf{x} = \\left[u\\;\\;v\\right]^T$ can be described as a matrix operation by a $3 \\times 3$ matrix $\\textbf{W}(\\textbf{p})$:,\n",
    "\n",
    "$$\n",
    "\\begin{gathered}\n",
    "\\left[ \\begin{array}{c} u' \\\\ v' \\\\ 1 \\end{array} \\right] = \\textbf{W}(\\textbf{p}) \\left[\n",
    "\\begin{array}{c} u \\\\ v \\\\ 1 \\end{array} \\right]\n",
    "\\end{gathered}\n",
    "$$\n",
    "\n",
    "$$\n",
    "\\begin{gathered}\n",
    "\\textbf{W}(\\textbf{p}) = \\begin{bmatrix} 1+p_1 & p_3 & p_5 \\\\ p_2 & 1+p_4 & p_6 \\\\ 0 & 0 & 1 \\end{bmatrix}\n",
    "\\end{gathered}\n",
    "$$\n",
    "\n",
    "Note: For convenience, when we want to refer to the warp as a function, we will use $\\textbf{W}(\\textbf{x};\\textbf{p})$ and when we want to refer to the matrix for an affine warp, we will use $\\textbf{W}(\\textbf{p})$. We will use affine warp and affine transformation interchangeably."
   ]
  },
  {
   "cell_type": "markdown",
   "metadata": {
    "deletable": false,
    "editable": false,
    "nbgrader": {
     "cell_type": "markdown",
     "checksum": "e9433820d0a93d83fb734962f39766cc",
     "grade": false,
     "grade_id": "cell-1b45fd1c3c38945a",
     "locked": true,
     "schema_version": 3,
     "solution": false,
     "task": false
    }
   },
   "source": [
    "# Theory Questions (30 pts)\n",
    "\n",
    "Before implementing the trackers, let's study some simple problems that will be useful during the implementation first. The answers to the below questions should be relatively short, consisting of a few lines of math and text.  \n",
    "\n",
    "## Q1.1\n",
    "Assuming the affine warp model defined above, derive the expression for the $\\frac{\\partial \\textbf{W}}{\\partial \\textbf{p}}$ in terms of the warp parameters $\\textbf{p} = [p_1\\;p_2\\;p_3\\;p_4\\;p_5\\;p_6]'$."
   ]
  },
  {
   "cell_type": "markdown",
   "metadata": {
    "deletable": false,
    "nbgrader": {
     "cell_type": "markdown",
     "checksum": "51769ea153121bc0007a4981af4d779d",
     "grade": true,
     "grade_id": "cell-ddb4d1f50ebcaec0",
     "locked": false,
     "points": 10,
     "schema_version": 3,
     "solution": true,
     "task": false
    }
   },
   "source": [
    "**Answer:**\n",
    "For the point $\\mathbf{x} = \\begin{bmatrix}x & y\\end{bmatrix}^T$, the corresponding warped point is given by\n",
    "\n",
    "$$\n",
    "\\begin{gathered}\n",
    "\\textbf{W}(\\textbf{x, p}) = \\begin{bmatrix} (1+p_1)x & p_3y & p_5 \\\\ p_2x & (1+p_4)y & p_6 \\end{bmatrix}\n",
    "\\end{gathered}\n",
    "$$\n",
    "\n",
    "Therefore, the derivative $\\frac{\\partial \\textbf{W}}{\\partial \\textbf{p}}$ in terms of the warp parameters $\\textbf{p} = [p_1\\;p_2\\;p_3\\;p_4\\;p_5\\;p_6]'$ is given by\n",
    "\n",
    "$$\\frac{\\partial \\textbf{W}}{\\partial \\textbf{p}} = \\begin{bmatrix}\\frac{\\partial \\textbf{W}_x}{\\partial \\textbf{p}_1} & \\frac{\\partial \\textbf{W}_x}{\\partial \\textbf{p}_2} & . & . & . & \\frac{\\partial \\textbf{W}_x}{\\partial \\textbf{p}_6} \\\\\n",
    "\\frac{\\partial \\textbf{W}_y}{\\partial \\textbf{p}_1} & \\frac{\\partial \\textbf{W}_y}{\\partial \\textbf{p}_2} & . & . & . & \\frac{\\partial \\textbf{W}_y}{\\partial \\textbf{p}_6} \\end{bmatrix}$$\n",
    "\n",
    "$$\\frac{\\partial \\textbf{W}}{\\partial \\textbf{p}} = \\begin{bmatrix} x & 0 & y & 0 & 1 & 0 \\\\ 0 & x & 0 & y & 0 & 1\\end{bmatrix}$$\n"
   ]
  },
  {
   "cell_type": "markdown",
   "metadata": {
    "deletable": false,
    "editable": false,
    "nbgrader": {
     "cell_type": "markdown",
     "checksum": "f3308c64e096019ce7cf7b08581cb289",
     "grade": false,
     "grade_id": "cell-fc866101ec15f385",
     "locked": true,
     "schema_version": 3,
     "solution": false,
     "task": false
    }
   },
   "source": [
    "## Q1.2\n",
    "Find the computational complexity (Big O notation) for each runtime iteration (computing $\\textbf{J}$ and $\\textbf{H}^{-1}$) of the Lucas Kanade method. Express your answers in terms of $n$, $m$ and $p$ where $n$ is the number of pixels in thetemplate $\\textbf{T}$, $m$ is the number of pixels in an input image $\\textbf{I}$ and $p$ is the number of parameters used to describe the warp $W$.\n",
    "\n",
    "You may refer to the supplementary PDF for more detailed descriptions of the algorithm."
   ]
  },
  {
   "cell_type": "markdown",
   "metadata": {
    "deletable": false,
    "nbgrader": {
     "cell_type": "markdown",
     "checksum": "ba829252163d38ffaacb6c82f5e57269",
     "grade": true,
     "grade_id": "cell-d618bdb98a0d5f94",
     "locked": false,
     "points": 10,
     "schema_version": 3,
     "solution": true,
     "task": false
    }
   },
   "source": [
    "**Answer:**\n",
    "\n",
    "Firstly, $m$ and $n$ should be equal as $\\mathbf{I}$ is generated by warping $\\mathbf{T}$ and so, will have same number of pixels.\n",
    "\n",
    "Going through one iteration of Lucas-Kanade tracking:\n",
    "\n",
    "(1) Warp $\\mathbf{I}$ with $\\mathbf{W(x, p)}$ to compute $\\mathbf{I(W(x, p))}$\n",
    " - This takes $\\mathbb{O}(np)$ as warping involves multiplying parameters with each pixel coordinates.\n",
    "\n",
    "(2) Compute the error image $\\mathbf{E} =\\mathbf{T(x)} - \\mathbf{I (W(x, p))}$\n",
    " - This take $\\mathbb{O}(n)$ as it's just finding elementwise difference\n",
    "\n",
    "(3) Warp the gradient $\\nabla \\mathbf{I}$ with $\\mathbf{W(x, p)}$\n",
    " - This takes $\\mathbb{O}(n)$ assuming that we already have the warped image else $\\mathbb{O}(np)$\n",
    "\n",
    "(4) Evaluate the Jacobian $\\frac{\\partial \\textbf{W}}{\\partial \\textbf{p}}$\n",
    " - This takes $\\mathbb{O}(np)$ as this is computed per pixel and using each parameter.\n",
    "\n",
    "(5) Compute the steepest descent images $\\nabla \\mathbf{I}\\frac{\\partial \\textbf{W}}{\\partial \\textbf{p}}$\n",
    " - This takes $\\mathbb{O}(np)$ as again this involves manipulation of a $n$ x $p$ matrix.\n",
    "\n",
    "(6) Compute the Hessian matrix - $ \\mathbf{H} = \\left[\\nabla \\mathbf{I}\\frac{\\partial \\textbf{W}}{\\partial \\textbf{p}}\\right]^T \\nabla \\mathbf{I}\\frac{\\partial \\textbf{W}}{\\partial \\textbf{p}}$\n",
    " - This Hessian computation takes $\\mathbb{O}(np^2)$ due to the above matrix multiplication - multiplying $p$ x $n$ matrix by $n$ x $p$ matrix can be done fastest in $\\mathbb{O}(pnp)$\n",
    "\n",
    "(7) Compute $\\left[\\nabla \\mathbf{I}\\frac{\\partial \\textbf{W}}{\\partial \\textbf{p}} \\right]^T\\mathbf{E}$\n",
    " - This takes $\\mathbb{O}(np)$ due to the above matrix multiplication - multiplying $p$ x $n$ matrix by $n$ x $1$ matrix can be done fastest in $\\mathbb{O}(pn)$\n",
    "\n",
    "(8) Compute $\\nabla \\mathbf{p} = H^{-1} \\left[\\nabla \\mathbf{I}\\frac{\\partial \\textbf{W}}{\\partial \\textbf{p}} \\right]^T\\mathbf{E}$\n",
    " - Inverting the Hessian takes $\\mathbb{O}(p^3)$ while multiplying it with the rest would need an additional $\\mathbb{O}(p^2)$ - multiplying $p$ x $p$ matrix by $p$ x $1$ matrix can be done fastest in $\\mathbb{O}(p^2)$\n",
    "\n",
    "(9) Update the parameters $\\mathbf{p}$ \n",
    " - This takes $\\mathbb{O}(p)$ as it's a simple update by addition per parameter.\n",
    " \n",
    "\n",
    "Therefore, the overall time complexity for one iteration of Lucas-Kanade tracking is $\\mathbb{O}(p^3 + np^2)$\n"
   ]
  },
  {
   "cell_type": "markdown",
   "metadata": {
    "deletable": false,
    "editable": false,
    "nbgrader": {
     "cell_type": "markdown",
     "checksum": "d6cb4dff6239e98d33174eb80bac1eb5",
     "grade": false,
     "grade_id": "cell-9d505035dba56563",
     "locked": true,
     "schema_version": 3,
     "solution": false,
     "task": false
    }
   },
   "source": [
    "## Q1.3\n",
    "Find the computational complexity (Big O notation) for the initialization step (Precomputing $\\textbf{J}$ and $\\textbf{H}^{-1}$) and for each runtime iteration of the Matthews-Baker method. Express your answers in terms of $n$, $m$ and $p$ where $n$ is the number of pixels in the template $\\textbf{T}$, $m$ is the number of pixels in an input image $\\textbf{I}$ and $p$ is the number of parameters used to describe the warp $W$. You may refer to the supplementary PDF for more detailed descriptions of the algorithm.\n",
    "\n",
    "How does this compare to the run time of the regular Lucas-Kanade method?"
   ]
  },
  {
   "cell_type": "markdown",
   "metadata": {
    "deletable": false,
    "nbgrader": {
     "cell_type": "markdown",
     "checksum": "ae37223040cd1e09dd9da48ed35c9b32",
     "grade": true,
     "grade_id": "cell-95b51fa815c97b28",
     "locked": false,
     "points": 10,
     "schema_version": 3,
     "solution": true,
     "task": false
    }
   },
   "source": [
    "**Answer:**\n",
    "\n",
    "Firstly, $m$ and $n$ should be equal as $\\mathbf{I}$ is generated by warping $\\mathbf{T}$ and so, will have same number of pixels.\n",
    "\n",
    "**Going through the precomputation of Matthews-Baker tracking:**\n",
    "\n",
    "(1) Evaluate the gradient $\\nabla \\mathbf{T}$ of the template $\\mathbf{T (x)}$\n",
    " - This takes $\\mathbb{O}(n)$ as it would involve iterating over pixels.\n",
    "\n",
    "(2) Evaluate the Jacobian $\\frac{\\partial \\textbf{W}}{\\partial \\textbf{p}}$ at $\\mathbf{(x, 0)}$\n",
    " - This takes $\\mathbb{O}(np)$ as this is computed per pixel and using each parameter.\n",
    " \n",
    "(3) Compute the steepest descent images $\\nabla \\mathbf{T} \\frac{\\partial \\textbf{W}}{\\partial \\textbf{p}}$\n",
    " - This takes $\\mathbb{O}(np)$ as again this involves manipulation of a $n$ x $p$ matrix.\n",
    "\n",
    "(4) Compute the Hessian matrix - $ \\mathbf{H} = \\left[\\nabla \\mathbf{T}\\frac{\\partial \\textbf{W}}{\\partial \\textbf{p}}\\right]^T \\nabla \\mathbf{T}\\frac{\\partial \\textbf{W}}{\\partial \\textbf{p}}$\n",
    " - This Hessian computation takes $\\mathbb{O}(np^2)$ due to the above matrix multiplication - multiplying $p$ x $n$ matrix by $n$ x $p$ matrix can be done fastest in $\\mathbb{O}(pnp)$\n",
    "\n",
    "**Going through one iteration of Matthews-Baker tracking:**\n",
    "\n",
    "(5) Warp $\\mathbf{I}$ with $\\mathbf{E} = \\mathbf{W(x, p)}$ to compute $\\mathbf{I(W(x, p))}$\n",
    " - This takes $\\mathbb{O}(n)$ assuming that we already have the warped image else $\\mathbb{O}(np)$\n",
    "\n",
    "(6) Compute the error image $\\mathbf{E} = \\mathbf{I (W(x, p))} - \\mathbf{T(x)}$\n",
    " - This take $\\mathbb{O}(n)$ as it's just finding elementwise difference\n",
    "\n",
    "(7) Compute $\\left[\\nabla \\mathbf{T}\\frac{\\partial \\textbf{W}}{\\partial \\textbf{p}} \\right]^T\\mathbf{E}$\n",
    " - This takes $\\mathbb{O}(np)$ due to the above matrix multiplication - multiplying $p$ x $n$ matrix by $n$ x $1$ matrix can be done fastest in $\\mathbb{O}(pn)$\n",
    "\n",
    "(8) Compute $\\nabla \\mathbf{p} = H^{-1} \\left[\\nabla \\mathbf{T}\\frac{\\partial \\textbf{W}}{\\partial \\textbf{p}} \\right]^T\\mathbf{E}$\n",
    " - Inverting the Hessian takes $\\mathbb{O}(p^3)$ while multiplying it with the rest would need an additional $\\mathbb{O}(p^2)$ - multiplying $p$ x $p$ matrix by $p$ x $1$ matrix can be done fastest in $\\mathbb{O}(p^2)$\n",
    "\n",
    "(9) Update the warp $\\mathbf{W(x; p)} = \\mathbf{W(x; p)} \\cdot \\mathbf{W(x;}\\nabla\\mathbf{ p)^{-1}}$\n",
    " - This takes $\\mathbb{O}(^2)$ \n",
    " \n",
    "Overall, the precomputation has an overall complexity of $\\mathbb{O}(np^2)$ while that for one iteration of Matthews-Baker tracking is $\\mathbb{O}(p^3 + np)$\n",
    "\n",
    "As can be seen the, Matthews-Baker tracking is faster with a smaller time complexity ($\\mathbb{O}(p^3 + np)$) as compared to Lucas-Kanade tracking ($\\mathbb{O}(p^3 + np^2)$). While the precomputation in Matthews-Baker tracking has a time complexity of $\\mathbb{O}(np^2)$, this part only runs once.\n",
    "\n",
    "So, say for $k$ iterations, Lucas-Kanade traccking would have a time complexity of $\\mathbb{O}(kp^3 + knp^2)$ while Matthews-Baker tracking would have $\\mathbb{O}(kp^3 + knp) + \\mathbb{O}(np^2)$. From this, it can clearly be seen that as the nuber of iterations increases, Matthews-Baker runs way faster than Lucas-Kanade."
   ]
  },
  {
   "cell_type": "markdown",
   "metadata": {
    "deletable": false,
    "editable": false,
    "nbgrader": {
     "cell_type": "markdown",
     "checksum": "2dbd3e8c0e92e6c62b8043d8bc4eec01",
     "grade": false,
     "grade_id": "cell-dbed38f544a88ed5",
     "locked": true,
     "schema_version": 3,
     "solution": false,
     "task": false
    }
   },
   "source": [
    "# Coding Questions Write-up"
   ]
  },
  {
   "cell_type": "markdown",
   "metadata": {
    "deletable": false,
    "editable": false,
    "nbgrader": {
     "cell_type": "markdown",
     "checksum": "5e4b14a6392699333126d98ae4770f0c",
     "grade": false,
     "grade_id": "cell-9d505035dba565as",
     "locked": true,
     "schema_version": 3,
     "solution": false,
     "task": false
    }
   },
   "source": [
    "## Q1.1"
   ]
  },
  {
   "cell_type": "code",
   "execution_count": null,
   "metadata": {},
   "outputs": [],
   "source": [
    "def LucasKanade(it, it1, rect, thresh=.01, maxIters=100):\n",
    "    \n",
    "    '''\n",
    "    Q1.1: Lucas-Kanade Forward Additive Alignment with Translation Only\n",
    "    \n",
    "      Inputs: \n",
    "        It: template image\n",
    "        It1: Current image\n",
    "        rect: Current position of the object\n",
    "        (top left, bottom right coordinates, x1, y1, x2, y2)\n",
    "        thresh: Stop condition when dp is too small\n",
    "        maxIters: Maximum number of iterations to run\n",
    "        \n",
    "      Outputs:\n",
    "        p: movement vector dx, dy\n",
    "    '''\n",
    "\n",
    "    # Set thresholds (you probably want to play around with the values)\n",
    "    p = np.zeros(2) # dx, dy\n",
    "    x1, y1, x2, y2 = rect\n",
    "    \n",
    "    inter_it = RectBivariateSpline(np.arange(it.shape[0]), np.arange(it.shape[1]), it) \n",
    "    inter_it1 = RectBivariateSpline(np.arange(it1.shape[0]), np.arange(it1.shape[1]), it1)\n",
    "    \n",
    "    x0, y0 = np.meshgrid(np.arange(x1, x2 + 0.5), np.arange(y1, y2 + 0.5))\n",
    "    x0 = x0.flatten()\n",
    "    y0 = y0.flatten()  \n",
    "    T = inter_it.ev(y0, x0)\n",
    "        \n",
    "    for i in range(maxIters):\n",
    "        \n",
    "        x = x0 + p[0]\n",
    "        y = y0 + p[1]\n",
    "        \n",
    "        I = inter_it1.ev(y, x)\n",
    "        \n",
    "        # Calculating A\n",
    "        Ix = inter_it1.ev(y, x, dx=0, dy=1).reshape(-1, 1)\n",
    "        Iy = inter_it1.ev(y, x, dx=1, dy=0).reshape(-1, 1)\n",
    "        dI = np.hstack((Ix, Iy))\n",
    "        dW_dp = np.eye(2)\n",
    "        A = dI @ dW_dp\n",
    "        \n",
    "        # Calculating b\n",
    "        b = T - I\n",
    "        \n",
    "        dp = np.linalg.lstsq(A, b, rcond=None)[0]\n",
    "        p = p + dp\n",
    "        \n",
    "        if np.sqrt(np.sum(dp ** 2)) <= thresh:\n",
    "            break\n",
    "        \n",
    "    return p"
   ]
  },
  {
   "cell_type": "markdown",
   "metadata": {
    "deletable": false,
    "nbgrader": {
     "cell_type": "markdown",
     "checksum": "b7059713fd50d874abbfb5d2b171af19",
     "grade": true,
     "grade_id": "cell-95b51fa815c97b21",
     "locked": false,
     "points": 10,
     "schema_version": 3,
     "solution": true,
     "task": false
    }
   },
   "source": [
    "Results:\n",
    "\n",
    "For each dataset, the first, middle and last frames have been shared\n",
    "\n",
    "1 - car1\n",
    "\n",
    "<img src='results/1_1_car1_1.png'><img src='results/1_1_car1_mid.png'><img src='results/1_1_car1_last.png'>\n",
    "\n",
    "2 - car2\n",
    "\n",
    "<img src='results/1_1_car2_1.png'><img src='results/1_1_car2_mid.png'><img src='results/1_1_car2_last.png'>\n",
    "\n",
    "3 - landing\n",
    "\n",
    "<img src='results/1_1_landing_1.png'><img src='results/1_1_landing_mid.png'><img src='results/1_1_landing_last.png'>\n",
    "\n",
    "4 - race\n",
    "\n",
    "<img src='results/1_1_race_1.png'><img src='results/1_1_race_mid.png'><img src='results/1_1_race_last.png'>\n",
    "\n",
    "5 - ballet\n",
    "\n",
    "<img src='results/1_1_ballet_1.png'><img src='results/1_1_ballet_mid.png'><img src='results/1_1_ballet_last.png'>"
   ]
  },
  {
   "cell_type": "markdown",
   "metadata": {
    "deletable": false,
    "editable": false,
    "nbgrader": {
     "cell_type": "markdown",
     "checksum": "cd67a14946eb87c0f6c4f4e2640c0543",
     "grade": false,
     "grade_id": "cell-9d505035dba56567",
     "locked": true,
     "schema_version": 3,
     "solution": false,
     "task": false
    }
   },
   "source": [
    "## Q1.2"
   ]
  },
  {
   "cell_type": "code",
   "execution_count": null,
   "metadata": {},
   "outputs": [],
   "source": [
    "def LucasKanadeAffine(it, it1, rect, thresh=.025, maxIters=100):\n",
    "    '''\n",
    "    Q1.2: Lucas-Kanade Forward Additive Alignment with Affine MAtrix\n",
    "    \n",
    "      Inputs: \n",
    "        It: template image\n",
    "        It1: Current image\n",
    "        rect: Current position of the object\n",
    "        (top left, bottom right coordinates, x1, y1, x2, y2)\n",
    "        thresh: Stop condition when dp is too small\n",
    "        maxIters: Maximum number of iterations to run\n",
    "        \n",
    "      Outputs:\n",
    "        M: Affine mtarix (2x3)\n",
    "    '''\n",
    "\n",
    "#     M = np.zeros((2, 3))\n",
    "    M = np.hstack((np.eye(2), np.zeros(2).reshape(-1, 1)))\n",
    "    x1, y1, x2, y2 = rect\n",
    "        \n",
    "    inter_it = RectBivariateSpline(np.arange(it.shape[0]), np.arange(it.shape[1]), it) \n",
    "    inter_it1 = RectBivariateSpline(np.arange(it1.shape[0]), np.arange(it1.shape[1]), it1)\n",
    "    \n",
    "    x0, y0 = np.meshgrid(np.arange(x1, x2 + 0.5), np.arange(y1, y2 + 0.5))\n",
    "    x0 = x0.flatten()\n",
    "    y0 = y0.flatten()  \n",
    "    \n",
    "    T = inter_it.ev(y0, x0)\n",
    "    coords0 = np.hstack((x0.reshape(-1, 1), y0.reshape(-1, 1)))\n",
    "        \n",
    "    for i in range(maxIters):\n",
    "\n",
    "        coords = M @ (np.hstack((coords0, np.ones(coords0.shape[0]).reshape(-1, 1))).T)\n",
    "        \n",
    "        x = coords[0].flatten()\n",
    "        y = coords[1].flatten()\n",
    "                \n",
    "        I = inter_it1.ev(y, x)\n",
    "        \n",
    "        # Calculating A\n",
    "        Ix = inter_it1.ev(y, x, dx=0, dy=1)\n",
    "        Iy = inter_it1.ev(y, x, dx=1, dy=0)\n",
    "        \n",
    "        # A = [x.Ix, x.Iy, y.Ix, y.Iy, Ix, Iy]\n",
    "        A = np.zeros((x.shape[0], 6))\n",
    "        \n",
    "        A[:, 0] = x * Ix\n",
    "        A[:, 1] = x * Iy\n",
    "        A[:, 2] = y * Ix\n",
    "        A[:, 3] = y * Iy\n",
    "        A[:, 4] = Ix\n",
    "        A[:, 5] = Iy\n",
    "        \n",
    "        # Calculating b\n",
    "        b = T - I\n",
    "        \n",
    "        dp = np.linalg.lstsq(A, b, rcond=None)[0]        \n",
    "        M = M + dp.reshape(np.flip(M.shape)).T\n",
    "        \n",
    "        if np.sqrt(np.sum(dp ** 2)) <= thresh:\n",
    "            break\n",
    "    \n",
    "    return M\n"
   ]
  },
  {
   "cell_type": "markdown",
   "metadata": {
    "deletable": false,
    "nbgrader": {
     "cell_type": "markdown",
     "checksum": "397993e9437f23f9f670651e4af9ca2c",
     "grade": true,
     "grade_id": "cell-95b51fa815c97b30",
     "locked": false,
     "points": 10,
     "schema_version": 3,
     "solution": true,
     "task": false
    }
   },
   "source": [
    "Results:\n",
    "\n",
    "For each dataset, the first, middle and last frames have been shared\n",
    "\n",
    "1 - car1\n",
    "\n",
    "<img src='results/1_2_car1_1.png'><img src='results/1_2_car1_mid.png'><img src='results/1_2_car1_last.png'>\n",
    "\n",
    "2 - car2\n",
    "\n",
    "<img src='results/1_2_car2_1.png'><img src='results/1_2_car2_mid.png'><img src='results/1_2_car2_last.png'>\n",
    "\n",
    "3 - landing\n",
    "\n",
    "<img src='results/1_2_landing_1.png'><img src='results/1_2_landing_mid.png'><img src='results/1_2_landing_last.png'>\n",
    "\n",
    "4 - race\n",
    "\n",
    "<img src='results/1_2_race_1.png'><img src='results/1_2_race_mid.png'><img src='results/1_2_race_last.png'>\n",
    "\n",
    "5 - ballet\n",
    "\n",
    "<img src='results/1_2_ballet_1.png'><img src='results/1_2_ballet_mid.png'><img src='results/1_2_ballet_last.png'>"
   ]
  },
  {
   "cell_type": "markdown",
   "metadata": {
    "deletable": false,
    "editable": false,
    "nbgrader": {
     "cell_type": "markdown",
     "checksum": "084d6da395e21296b7ecfd66c5f4d61d",
     "grade": false,
     "grade_id": "cell-9d505035dba56568",
     "locked": true,
     "schema_version": 3,
     "solution": false,
     "task": false
    }
   },
   "source": [
    "## Q2.1"
   ]
  },
  {
   "cell_type": "code",
   "execution_count": null,
   "metadata": {},
   "outputs": [],
   "source": [
    "def InverseCompositionAffine(it, it1, rect, thresh=.01, maxIters=100):\n",
    "    '''\n",
    "    Q2.1: Matthew-Bakers Inverse Compositional Alignment with Affine MAtrix\n",
    "    \n",
    "      Inputs: \n",
    "        It: template image\n",
    "        It1: Current image\n",
    "        rect: Current position of the object\n",
    "        (top left, bottom right coordinates, x1, y1, x2, y2)\n",
    "        thresh: Stop condition when dp is too small\n",
    "        maxIt: Maximum number of iterations to run\n",
    "        \n",
    "      Outputs:\n",
    "        M: Affine mtarix (2x3)\n",
    "    '''\n",
    "    \n",
    "    # Set thresholds (you probably want to play around with the values)\n",
    "    M = np.eye(3)\n",
    "    p = np.zeros((3, 3))\n",
    "    x1, y1, x2, y2 = rect\n",
    "    \n",
    "    if x2 < x1 or y2 < y1:        \n",
    "        return M[: 2]    \n",
    "        \n",
    "    inter_it = RectBivariateSpline(np.arange(it.shape[0]), np.arange(it.shape[1]), it) \n",
    "    inter_it1 = RectBivariateSpline(np.arange(it1.shape[0]), np.arange(it1.shape[1]), it1)\n",
    "    \n",
    "    x0, y0 = np.meshgrid(np.arange(x1, x2 + 0.1), np.arange(y1, y2 + 0.1))\n",
    "    x0 = x0.flatten()\n",
    "    y0 = y0.flatten()  \n",
    "    \n",
    "    T = inter_it.ev(y0, x0)\n",
    "    coords0 = np.hstack((x0.reshape(-1, 1), y0.reshape(-1, 1)))\n",
    "        \n",
    "    Tx = inter_it.ev(y0, x0, dx=0, dy=1)\n",
    "    Ty = inter_it.ev(y0, x0, dx=1, dy=0)\n",
    "\n",
    "    # A = [x.Ix, x.Iy, y.Ix, y.Iy, Ix, Iy]\n",
    "    A = np.zeros((x0.shape[0], 6))\n",
    "\n",
    "    A[:, 0] = x0 * Tx\n",
    "    A[:, 1] = y0 * Tx\n",
    "    A[:, 2] = Tx\n",
    "    A[:, 3] = x0 * Ty\n",
    "    A[:, 4] = y0 * Ty\n",
    "    A[:, 5] = Ty\n",
    "    \n",
    "    for i in range(maxIters):\n",
    "\n",
    "        coords = M @ (np.hstack((coords0, np.ones(coords0.shape[0]).reshape(-1, 1))).T)\n",
    "        \n",
    "        x = coords[0].flatten()\n",
    "        y = coords[1].flatten()\n",
    "                \n",
    "        I = inter_it1.ev(y, x)\n",
    "        \n",
    "        # Calculating b\n",
    "        b = I - T\n",
    "        \n",
    "        dp = np.linalg.lstsq(A, b, rcond=None)[0] \n",
    "        dp = dp.reshape(2, 3)\n",
    "        \n",
    "        dM = np.eye(3)\n",
    "        dM = dM + np.vstack((dp, np.array([0, 0, 0])))\n",
    "        M = M @ np.linalg.pinv(dM)\n",
    "    \n",
    "        if np.linalg.norm(dp) <= thresh:\n",
    "            break\n",
    "    \n",
    "    return M[: -1]"
   ]
  },
  {
   "cell_type": "markdown",
   "metadata": {
    "deletable": false,
    "nbgrader": {
     "cell_type": "markdown",
     "checksum": "8ba5ee7a9ef97ddacf0c74711b9846b5",
     "grade": true,
     "grade_id": "cell-95b51fa815c97b31",
     "locked": false,
     "points": 10,
     "schema_version": 3,
     "solution": true,
     "task": false
    }
   },
   "source": [
    "Results:\n",
    "\n",
    "For each dataset, the first, middle and last frames have been shared\n",
    "\n",
    "1 - car1\n",
    "\n",
    "<img src='results/2_car1_1.png'><img src='results/2_car1_mid.png'><img src='results/2_car1_last.png'>\n",
    "\n",
    "2 - car2\n",
    "\n",
    "<img src='results/2_car2_1.png'><img src='results/2_car2_mid.png'><img src='results/2_car2_last.png'>\n",
    "\n",
    "3 - landing\n",
    "\n",
    "<img src='results/2_landing_1.png'><img src='results/2_landing_mid.png'><img src='results/2_landing_last.png'>\n",
    "\n",
    "4 - race\n",
    "\n",
    "<img src='results/2_race_1.png'><img src='results/2_race_mid.png'><img src='results/2_race_last.png'>\n",
    "\n",
    "5 - ballet\n",
    "\n",
    "<img src='results/2_ballet_1.png'><img src='results/2_ballet_mid.png'><img src='results/2_ballet_lasst.png'>"
   ]
  },
  {
   "cell_type": "markdown",
   "metadata": {},
   "source": [
    "Comparing performance for every dataset\n",
    "\n",
    "1 - Car1 - The Lucas-Kanade Affine matrix algorithm outperforms the Matthews-Baker tracking. Matthews-Baker algorithm messes up the tracking once the car goes into the shadows.\n",
    "\n",
    "2 - Car2 - Both Lucas-Kanade Affine and Matthews-Baker tracking seem to perform bad on this dataset. This is mostly because the scaling component of the affine filter learned gets larger and larger when the traffic sign enters the scene as that too was being considered a part of the car. Since this wasn't possible with the Lucas-Kanade translation only implementation, it didnt face this issue.\n",
    "\n",
    "3 - Landing - Both Lucas-Kanade Affine and Matthews-Baker tracking perform well on this dataset. Since the translation only implementation doesn't have any scaling factor involved, it can't get the right bounding box.\n",
    "\n",
    "4 - Race - Both Lucas-Kanade Affine and Matthews-Baker tracking have similar performance. The bounding box contains the horse being tracked but also includes part of another horse.\n",
    "\n",
    "5 - Ballet - Matthews-Baker performs bad on this dataset by again having a completely outstretched bounding box. Lucas-Kanade affine works poorly as well when it comes to tracking.\n",
    "\n",
    "The lucas-kanade translation only implementation doesn't have any scale factors associated and thus, cant track objects efficiently as their size would change as they would move towards or away from the camera. However, the affine implementation and Matthews-Baker tracking both have this fixed as they find multiple parameters to form the affine filter matrix. Secondly, Matthews-Baker is much faster than Lucas-Kanade as it only needs to compute the Hessian once unlike Lucas-Kanade wherein the Hessian needs to be computed in every iteration.\n",
    "\n",
    "However, all these algorithms only work in case few conditions are satisfied. 1 - Brightness of points remains constant over time and, 2 - The displacement along $x$ and $y$ between 2 consecutive frames is very small. So, when these conditions are not met - car1 having drastic brightness changes when the car emerges from beneath the shadows and ballet having some moments of drastic movement, the algorithms break."
   ]
  },
  {
   "cell_type": "markdown",
   "metadata": {
    "deletable": false,
    "editable": false,
    "nbgrader": {
     "cell_type": "markdown",
     "checksum": "e48ed28e94321846ae54b7f1a476c9ed",
     "grade": false,
     "grade_id": "cell-9d505035dba56569",
     "locked": true,
     "schema_version": 3,
     "solution": false,
     "task": false
    }
   },
   "source": [
    "## Q2.2"
   ]
  },
  {
   "cell_type": "markdown",
   "metadata": {
    "deletable": false,
    "nbgrader": {
     "cell_type": "markdown",
     "checksum": "1d25dbd47af9fb1c8dbcad4cf6d85162",
     "grade": true,
     "grade_id": "cell-95b51fa815c97b32",
     "locked": false,
     "points": 10,
     "schema_version": 3,
     "solution": true,
     "task": false
    }
   },
   "source": [
    "Comparing performance for every dataset\n",
    "\n",
    "1 - Car1 - The Lucas-Kanade Affine matrix algorithm outperforms the Matthews-Baker tracking. Matthews-Baker algorithm messes up the tracking once the car goes into the shadows.\n",
    "\n",
    "2 - Car2 - Both Lucas-Kanade Affine and Matthews-Baker tracking seem to perform bad on this dataset. This is mostly because the scaling component of the affine filter learned gets larger and larger when the traffic sign enters the scene as that too was being considered a part of the car. Since this wasn't possible with the Lucas-Kanade translation only implementation, it didnt face this issue.\n",
    "\n",
    "3 - Landing - Both Lucas-Kanade Affine and Matthews-Baker tracking perform well on this dataset. Since the translation only implementation doesn't have any scaling factor involved, it can't get the right bounding box.\n",
    "\n",
    "4 - Race - Both Lucas-Kanade Affine and Matthews-Baker tracking have similar performance. The bounding box contains the horse being tracked but also includes part of another horse.\n",
    "\n",
    "5 - Ballet - Matthews-Baker performs bad on this dataset by again having a completely outstretched bounding box. Lucas-Kanade affine works poorly as well when it comes to tracking.\n",
    "\n",
    "The lucas-kanade translation only implementation doesn't have any scale factors associated and thus, cant track objects efficiently as their size would change as they would move towards or away from the camera. However, the affine implementation and Matthews-Baker tracking both have this fixed as they find multiple parameters to form the affine filter matrix. Secondly, Matthews-Baker is much faster than Lucas-Kanade as it only needs to compute the Hessian once unlike Lucas-Kanade wherein the Hessian needs to be computed in every iteration.\n",
    "\n",
    "However, all these algorithms only work in case few conditions are satisfied. 1 - Brightness of points remains constant over time and, 2 - The displacement along $x$ and $y$ between 2 consecutive frames is very small. So, when these conditions are not met - car1 having drastic brightness changes when the car emerges from beneath the shadows and ballet having some moments of drastic movement, the algorithms break."
   ]
  },
  {
   "cell_type": "markdown",
   "metadata": {
    "deletable": false,
    "editable": false,
    "nbgrader": {
     "cell_type": "markdown",
     "checksum": "c18a0c2544adf1bd7ed3fda74dd08b83",
     "grade": false,
     "grade_id": "cell-9d505035dba56570",
     "locked": true,
     "schema_version": 3,
     "solution": false,
     "task": false
    }
   },
   "source": [
    "## Q3"
   ]
  },
  {
   "cell_type": "markdown",
   "metadata": {
    "deletable": false,
    "nbgrader": {
     "cell_type": "markdown",
     "checksum": "6b0b69af0161b2d4f3c5c5254a9e52d9",
     "grade": true,
     "grade_id": "cell-95b51fa815c97b33",
     "locked": false,
     "points": 10,
     "schema_version": 3,
     "solution": true,
     "task": false
    }
   },
   "source": [
    "YOUR ANSWER HERE"
   ]
  }
 ],
 "metadata": {
  "kernelspec": {
   "display_name": "Python 3 (ipykernel)",
   "language": "python",
   "name": "python3"
  },
  "language_info": {
   "codemirror_mode": {
    "name": "ipython",
    "version": 3
   },
   "file_extension": ".py",
   "mimetype": "text/x-python",
   "name": "python",
   "nbconvert_exporter": "python",
   "pygments_lexer": "ipython3",
   "version": "3.8.10"
  },
  "toc": {
   "base_numbering": 1,
   "nav_menu": {},
   "number_sections": false,
   "sideBar": true,
   "skip_h1_title": false,
   "title_cell": "Table of Contents",
   "title_sidebar": "Contents",
   "toc_cell": false,
   "toc_position": {},
   "toc_section_display": true,
   "toc_window_display": true
  }
 },
 "nbformat": 4,
 "nbformat_minor": 2
}
