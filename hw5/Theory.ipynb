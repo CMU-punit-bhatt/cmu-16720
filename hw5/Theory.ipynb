{
 "cells": [
  {
   "cell_type": "code",
   "execution_count": null,
   "metadata": {},
   "outputs": [],
   "source": []
  },
  {
   "cell_type": "markdown",
   "metadata": {
    "deletable": false,
    "editable": false,
    "nbgrader": {
     "cell_type": "markdown",
     "checksum": "baa52b722dc3cba90385d3d0ded47dbc",
     "grade": false,
     "grade_id": "cell-b2250668e6fbbab8",
     "locked": true,
     "schema_version": 3,
     "solution": false,
     "task": false
    }
   },
   "source": [
    "<img align=\"center\" src=\"images/course.png\" width=\"800\">"
   ]
  },
  {
   "cell_type": "markdown",
   "metadata": {},
   "source": [
    "# 16720 (B)  3D Reconstruction - Assignment 5\n",
    "    Instructor: Kris                          TAs: Zen (Lead), Yan, Rawal, Wen-Hsuan, Paritosh, Qichen\n",
    "\n",
    "# Instructions\n",
    "\n",
    "This section should include the visualizations and answers to specifically highlighted questions from P1 to P4. This section will need to be uploaded to gradescope as a pdf and manually graded (this is a separate submission from the coding notebooks).\n",
    "\n",
    "\n",
    "1. Students are encouraged to work in groups but each student must submit their own work. Include the names of your collaborators in your write up. Code should <span style='color:red'>Not</span>  be shared or copied. Please properly give credits to others by <span style='color:red'>LISTING EVERY COLLABORATOR</span> in the writeup including any code segments that you discussed,  Please <span style='color:red'>DO NOT</span>  use external code unless permitted. Plagiarism is prohibited and may lead to failure of this course.\n",
    "\n",
    "2.  **Start early!** This homework will take a long time to complete.\n",
    "    \n",
    "3. **Questions:** If you have any question, please look at Piazza first and the FAQ page for this homework.\n",
    "\n",
    "4. All the theory question and manually graded questions should be included in a single writeup (this notebook exported as pdf or a standalone pdf file) and submitted to gradescope: pdf assignment. \n",
    "\n",
    "5. **Attempt to verify your implementation as you proceed:** If you don’t verify that your implementation is correct on toy examples, you will risk having a huge issue when you put everything together. We provide some simple checks in the notebook cells, but make sure you verify them on more complicated samples before moving forward. \n",
    "\n",
    "6. **Do not import external functions/packages other than the ones already imported in the files:** The current imported functions and packages are enough for you to complete this assignment. If you need to import other functions, please remember to comment them out after submission. Our autograder will crash if you import a new function that the gradescope server does not expect. \n",
    "\n",
    "7. Assignments that do not follow this submission rule will be **penalized up to 10\\% of the total score**.\n"
   ]
  },
  {
   "cell_type": "markdown",
   "metadata": {
    "deletable": false,
    "editable": false,
    "nbgrader": {
     "cell_type": "markdown",
     "checksum": "5a10be777f18b8270699d9bcd3f50917",
     "grade": false,
     "grade_id": "cell-1b45fd1c3c38945a",
     "locked": true,
     "schema_version": 3,
     "solution": false,
     "task": false
    }
   },
   "source": [
    "# Theory Questions (25 pts)\n",
    "\n",
    "Before implementing our own 3D reconstruction, let's take a  look at some simple theory questions that may arise. The answers to the below questions should be relatively short, consisting of a few lines of math and text (maybe a diagram if it helps your understanding).  \n",
    "\n",
    "<img align=\"center\" src=\"images/drawing-1.png\" width=\"800\">\n",
    "<center> <figcaption align=\"center\"><b>Figure1. Figure for Q1.1. $C1$ and $C2$ are the optical centers. The principal axes intersect at point $\\textbf{w}$ ($P$ in the figure).</b></figcaption> </center>\n",
    "\n",
    "\n",
    "\n",
    "\n",
    "## Q1.1\n",
    "Suppose two cameras fixated on a point $x$ (see Figure 1) in space such that their principal axes intersect at the  point $P$. Show that if the image coordinates are normalized so that the coordinate origin $(0, 0)$\n",
    "coincides with the principal point, the $\\textbf{F}_{33}$ element of the fundamental matrix is zero."
   ]
  },
  {
   "cell_type": "markdown",
   "metadata": {
    "deletable": false,
    "nbgrader": {
     "cell_type": "markdown",
     "checksum": "230c80f93cd50124cc51aaf2cce6cf60",
     "grade": true,
     "grade_id": "cell-ddb4d1f50ebcaec0",
     "locked": false,
     "points": 5,
     "schema_version": 3,
     "solution": true,
     "task": false
    }
   },
   "source": [
    "Let $\\mathbf{x}_1 = \\begin{bmatrix}x_1 & y_1 & 1 \\end{bmatrix}^T$ be the pixel coordinates on the left camera image plane. Similarly, $\\mathbf{x}_2 = \\begin{bmatrix}x_2 & y_2 & 1 \\end{bmatrix}^T$ for the right camera image plane.\n",
    "\n",
    "From the epipolar constraint,\n",
    "\n",
    "$$\\mathbf{x}_1^T F \\mathbf{x}_2 = 0$$ \n",
    "\n",
    "where $F$ is the fundamental matrix.\n",
    "\n",
    "A point on the right image plane would be represented by a line (epipolar line) on the left image plane.\n",
    "\n",
    "Finding the corresponding line equation\n",
    "\n",
    "$$\\mathbf{x}_1^T F \\mathbf{x}_2 = 0$$ \n",
    "$$\\begin{bmatrix}x_1 & y_1 & 1 \\end{bmatrix} \\begin{bmatrix}f_{11} & f_{12} & f_{13} \\\\ f_{21} & f_{22} & f_{23} \\\\ f_{31} & f_{32} & f_{33} \\end{bmatrix} \\begin{bmatrix}x_2 \\\\ y_2 \\\\ 1 \\end{bmatrix} = 0$$ \n",
    "\n",
    "$$\\begin{bmatrix}x_1 & y_1 & 1 \\end{bmatrix} \\begin{bmatrix}f_{11} x_2 + f_{12} y_2 + f_{13} \\\\ f_{21} x_2 + f_{22} y_2 + f_{23} \\\\ f_{31} x_2 + f_{32} y_2 + f_{33} \\end{bmatrix} = 0$$ \n",
    "\n",
    "$$\\left(f_{11} x_2 + f_{12} y_2 + f_{13}\\right) x_1 + \\left(f_{21} x_2 + f_{22} y_2 + f_{23}\\right) y_1 + \\left(f_{31} x_2 + f_{32} y_2 + f_{33}\\right) = 0$$ \n",
    "\n",
    "The above line equation represents the left image plane epipolar line for a point $\\mathbf{x}_2$ on the right image plane.\n",
    "\n",
    "As per the question, the lines passing through the principal points intersect. Thus, they are correspondences. The way the pixel coordinates are normalized, these correspondences are both origins in their respective image planes.\n",
    "\n",
    "Therefore, considering the left image plane epipolar line for the origin $\\begin{bmatrix}0 & 0 & 1 \\end{bmatrix}^T$\n",
    "\n",
    "$$f_{13} x_1 + f_{23} y_1 + f_{33} = 0$$\n",
    "\n",
    "Since the left image plane correspondence of (0, 0) is (0, 0), the above line should pass through origin. Thus, the constant term needs to be 0.\n",
    "\n",
    "$\\therefore f_{33} = 0$"
   ]
  },
  {
   "cell_type": "markdown",
   "metadata": {
    "deletable": false,
    "editable": false,
    "nbgrader": {
     "cell_type": "markdown",
     "checksum": "e534a02fe47c25b7e47298c7648e1c17",
     "grade": false,
     "grade_id": "cell-fc866101ec15f385",
     "locked": true,
     "schema_version": 3,
     "solution": false,
     "task": false
    }
   },
   "source": [
    "## Q1.2\n",
    "Consider the case of two cameras viewing an object such that the second camera differs from the first by a pure translation that is parallel to the $x$-axis. Show that the epipolar lines in the two cameras are also parallel to the $x$-axis. Backup your argument with relevant equations.\n"
   ]
  },
  {
   "cell_type": "markdown",
   "metadata": {
    "deletable": false,
    "nbgrader": {
     "cell_type": "markdown",
     "checksum": "7e10bc4946beab4d0d572bf50cba41a3",
     "grade": true,
     "grade_id": "cell-d618bdb98a0d5f94",
     "locked": false,
     "points": 5,
     "schema_version": 3,
     "solution": true,
     "task": false
    }
   },
   "source": [
    "Since there's no rotation and translation's only along x-axis\n",
    "\n",
    "$$ \\mathbf{R} = \\mathbf{I}, \\mathbf{t} = \\begin{bmatrix}t \\\\ 0 \\\\ 0 \\end{bmatrix}$$\n",
    "\n",
    "Therefore, Essential matrix can be calculated as \n",
    "\n",
    "$$ \\mathbf{E} = \\mathbf{T}_x\\mathbf{R} = \\begin{bmatrix}0 & 0 & 0 \\\\ 0 & 0 & -t \\\\ 0 & t & 0 \\end{bmatrix}\\mathbf{I} = \\begin{bmatrix}0 & 0 & 0 \\\\ 0 & 0 & -t \\\\ 0 & t & 0 \\end{bmatrix}$$\n",
    "\n",
    "Let $\\mathbf{x}_1 = \\begin{bmatrix}x_1 & y_1 & 1 \\end{bmatrix}^T$ be the pixel coordinates on the left camera image plane.\n",
    "\n",
    "The epipolar line is given by the relation\n",
    "\n",
    "$$\\mathbf{L} = \\mathbf{Ex}_1$$\n",
    "$$ \\mathbf{L} = \\begin{bmatrix}0 & 0 & 0 \\\\ 0 & 0 & -t \\\\ 0 & t & 0 \\end{bmatrix}\\begin{bmatrix}x_1 \\\\ y_1 \\\\ 1 \\end{bmatrix}$$\n",
    "$$ \\mathbf{L} = \\begin{bmatrix}0 \\\\ -t \\\\ ty_1 \\end{bmatrix}$$\n",
    "\n",
    "The line is of the form $y = constant$ as the $x$ component is 0.\n",
    "This line is parallel to the x-axis. Similarly can be shown that the epipolar line on right image plane is parallel to x-axis in such cases"
   ]
  },
  {
   "cell_type": "markdown",
   "metadata": {
    "deletable": false,
    "editable": false,
    "nbgrader": {
     "cell_type": "markdown",
     "checksum": "489ca170dd31079e5389db09533ce11f",
     "grade": false,
     "grade_id": "cell-9d505035dba56563",
     "locked": true,
     "schema_version": 3,
     "solution": false,
     "task": false
    }
   },
   "source": [
    "## Q1.3\n",
    "Suppose we have an inertial sensor which gives us the accurate extrinsics $\\mathbf{R}_i$ and $\\textbf{t}_i$ (see Figure 2), the rotation matrix and translation vector of the robot at time $i$. What will be the effective rotation ($\\textbf{R}_{rel}$) and translation ($\\textbf{t}_{rel}$) between two frames at different time stamps? Suppose the camera intrinsics ($\\textbf{K}$) are known, express the essential matrix ($\\textbf{E}$) and the fundamental matrix ($\\textbf{F}$) in terms of $\\textbf{K}$, $\\textbf{R}_{rel}$ and $\\textbf{t}_{rel}$.\n",
    "\n",
    "<img align=\"center\" src=\"images/F_E.png\" width=\"500\">\n",
    "<center> <figcaption align=\"center\"><b>Figure 2. Figure for Q1.3. $C1$ and $C2$ are the optical centers. The rotation and the translation is obtained using inertial sensors. $\\textbf{R}_{rel}$ and $\\textbf{t}_{rel}$ are the relative rotation and translation between two frames.</b></figcaption> </center>"
   ]
  },
  {
   "cell_type": "markdown",
   "metadata": {
    "deletable": false,
    "nbgrader": {
     "cell_type": "markdown",
     "checksum": "30b8549ddf70118b77ef896d549b9ad1",
     "grade": true,
     "grade_id": "cell-95b51fa815c97b28",
     "locked": false,
     "points": 5,
     "schema_version": 3,
     "solution": true,
     "task": false
    }
   },
   "source": [
    "Consider a point in the 3D world $\\mathbf{x} = \\begin{bmatrix} x & y & z\\end{bmatrix}^T$\n",
    "\n",
    "At time = 1, let the corresponding camera 3D point be $\\mathbf{u}_1$\n",
    "\n",
    "Therefore,\n",
    "\n",
    "$$\\mathbf{u}_1 = \\begin{bmatrix}\\mathbf{R_1} & \\big | & \\mathbf{t_1}\\end{bmatrix}\\mathbf{x}$$\n",
    "$$\\mathbf{u}_1 = \\mathbf{R_1}\\mathbf{x} + \\mathbf{t_1}$$\n",
    "$$\\mathbf{x} = \\mathbf{R_1}^{-1}\\left(\\mathbf{u}_1 - \\mathbf{t_1}\\right)$$\n",
    "\n",
    "\n",
    "At time = 2, let the corresponding camera 3D point be $\\mathbf{u}_2$\n",
    "\n",
    "Therefore,\n",
    "\n",
    "$$\\mathbf{u}_2 = \\begin{bmatrix}\\mathbf{R_2} & \\big | & \\mathbf{t_2}\\end{bmatrix}\\mathbf{x}$$\n",
    "$$\\mathbf{u}_2 = \\mathbf{R_2}\\mathbf{x} + \\mathbf{t_2}$$\n",
    "\n",
    "Substituting value of $\\mathbf{x}$\n",
    "\n",
    "$$\\mathbf{u}_2 = \\mathbf{R_2}\\left[\\mathbf{R_1}^{-1}\\left(\\mathbf{u}_1 - \\mathbf{t_1}\\right) \\right] + \\mathbf{t_2}$$\n",
    "$$\\mathbf{u}_2 = \\mathbf{R_2}\\mathbf{R_1}^{-1}\\mathbf{u}_1 + \\mathbf{t_2} - \\mathbf{R_2}\\mathbf{R_1}^{-1}\\mathbf{t_1}$$\n",
    "$$\\mathbf{u}_2 = \\mathbf{R_{rel}}\\mathbf{u}_1 + \\mathbf{t_{rel}}$$\n",
    "\n",
    "Therefore, the relative rotation and translation to get it from the initial point to the final point is given by\n",
    "\n",
    "$$\\therefore \\mathbf{R}_{rel} = \\mathbf{R_2}\\mathbf{R_1}^{-1}, \\mathbf{t}_{rel} = \\mathbf{t_2} - \\mathbf{R_2}\\mathbf{R_1}^{-1}\\mathbf{t_1}$$\n",
    "\n",
    "Essential matrix is given by, $$ \\mathbf{E} = \\mathbf{t}_{rel} \\times \\mathbf{R}_{rel}$$\n",
    "\n",
    "Fundamental matrix is given by, $$ \\mathbf{F} = (\\mathbf{K}^{-1})^T\\mathbf{E}\\mathbf{K}^{-1} $$\n",
    "$$ \\mathbf{F} = (\\mathbf{K}^{-1})^T\\left(\\mathbf{t}_{rel} \\times \\mathbf{R}_{rel}\\right)\\mathbf{K}^{-1}$$"
   ]
  },
  {
   "cell_type": "markdown",
   "metadata": {
    "deletable": false,
    "editable": false,
    "nbgrader": {
     "cell_type": "markdown",
     "checksum": "1493d0ead7cc2a9bfbdcfb9b3014afa8",
     "grade": false,
     "grade_id": "cell-18e27a9a54289ed0",
     "locked": true,
     "schema_version": 3,
     "solution": false,
     "task": false
    }
   },
   "source": [
    "## Q1.4\n",
    "\n",
    "Suppose that a camera views an object and its reflection in a plane mirror. Show that this situation is equivalent to having two images of the object which are related by a skew-symmetric fundamental matrix. You may assume that the object is flat, meaning that all points on the object are of equal distance to the mirror (**Hint:** draw the relevant vectors to understand the relationship between the camera, the object, and its reflected image.)\n",
    "\n",
    "\n",
    "\n"
   ]
  },
  {
   "cell_type": "markdown",
   "metadata": {
    "deletable": false,
    "nbgrader": {
     "cell_type": "markdown",
     "checksum": "f2e53ba2c33fdd08eee26ab9d6b9322a",
     "grade": true,
     "grade_id": "cell-d5728e037f384ded",
     "locked": false,
     "points": 10,
     "schema_version": 3,
     "solution": true,
     "task": false
    }
   },
   "source": [
    "Since the object is flat, all points on the object are at equal distance from the reflected image. Therefore, obtaining the reflected image requires the object to be displaced by some distance. There's no rotation involved as the object is flat and parallel to the mirror.\n",
    "\n",
    "Also, the object being translated, in this case, is equivalent to the object being fixed and having two viewpoints for the same camera separated by the same translation.\n",
    "\n",
    "$$\\therefore \\mathbf{R} = \\mathbf{I}, \\mathbf{t} = \\begin{bmatrix}t_x \\\\ t_y \\\\ t_z\\end{bmatrix}$$\n",
    "\n",
    "The corresponding translation skew symmetric matrix, $$ \\mathbf{T}_x = \\begin{bmatrix}0 & -t_z & t_y \\\\ t_z & 0 & -t_x \\\\ -t_y & t_x & 0\\end{bmatrix}$$\n",
    "\n",
    "The Essential matrix is given by $\\mathbf{E} = \\mathbf{T}_x\\mathbf{R} = \\mathbf{T}_x\\mathbf{I} =\\mathbf{T}_x$\n",
    "\n",
    "Now calculating the fundamental matrix,\n",
    "\n",
    "$$ \\mathbf{F} = (K^T)^{-1} \\mathbf{E} K^{-1}$$ \n",
    "$$ \\mathbf{F} = (K^T)^{-1} \\mathbf{T}_x K^{-1}$$\n",
    "\n",
    "Calculating $\\mathbf{F}^T$\n",
    "\n",
    "$$ \\mathbf{F}^T = \\left[(K^T)^{-1} \\mathbf{T}_x K^{-1}\\right]^T $$\n",
    "$$ \\mathbf{F}^T = (K^{-1})^T \\mathbf{T}_x^T ((K^T)^{-1})^T$$\n",
    "$$ \\mathbf{F}^T = (K^{-1})^T \\mathbf{T}_x^T ((K^T)^T)^{-1}$$\n",
    "$$ \\mathbf{F}^T = (K^{-1})^T \\mathbf{T}_x^T K^{-1}$$\n",
    "\n",
    "However, since $\\mathbf{T}_x$ is a skew symmetric matrix, $\\mathbf{T}_x^T = - \\mathbf{T}_x$\n",
    "\n",
    "$$\\therefore \\mathbf{F}^T = - (K^{-1})^T \\mathbf{T}_x K^{-1} = - \\mathbf{F}$$\n",
    "\n",
    "Since $\\mathbf{F}^T = - \\mathbf{F}$, the fundamental matrix is skew symmetric"
   ]
  },
  {
   "cell_type": "markdown",
   "metadata": {
    "deletable": false,
    "editable": false,
    "nbgrader": {
     "cell_type": "markdown",
     "checksum": "4a79836003d68698b32bff3fb16e553a",
     "grade": false,
     "grade_id": "cell-dbed38f544a88ed5",
     "locked": true,
     "schema_version": 3,
     "solution": false,
     "task": false
    }
   },
   "source": [
    "# Coding Questions (30 pt)"
   ]
  },
  {
   "cell_type": "markdown",
   "metadata": {
    "deletable": false,
    "nbgrader": {
     "cell_type": "markdown",
     "checksum": "f15ddd7b79f422417b55e7cc89e39794",
     "grade": true,
     "grade_id": "cell-5a62694e7d76b858",
     "locked": false,
     "points": 2,
     "schema_version": 3,
     "solution": true,
     "task": false
    }
   },
   "source": [
    "### Q1.1: The Eight Point Algorithm\n",
    "\n",
    "<span style='color:red'>**Output:**</span> In your write-up: Write your recovered $\\textbf{F}$ and include an image of some example outputs of displayEpipolarF.\n",
    "\n",
    "**Answer:**\n",
    "\n",
    "$$\\mathbf{F} = \\begin{bmatrix}-0.   &   0.  &   -0.2519\\\\\n",
    " 0.   &  -0.    &  0.0026 \\\\\n",
    " 0.2422 & -0.0068 & 1.    \\end{bmatrix}$$\n",
    " \n",
    " Sample Output:\n",
    " \n",
    "![](results/1_1_01.png)"
   ]
  },
  {
   "cell_type": "markdown",
   "metadata": {
    "deletable": false,
    "nbgrader": {
     "cell_type": "markdown",
     "checksum": "9b3fb684b89aefccec51c2008fd0eaca",
     "grade": true,
     "grade_id": "cell-fa25f5e12e09cf01",
     "locked": false,
     "points": 5,
     "schema_version": 3,
     "solution": true,
     "task": false
    }
   },
   "source": [
    "### Q1.2: The Seven Point Algorithm\n",
    "<span style='color:red'>**Output:**</span> In your write-up: Print your recovered $\\textbf{F}$ and include an image output of `displayEpipolarF`.\n",
    "\n",
    "**Answer:**\n",
    "\n",
    "$$\\mathbf{F} = \\begin{bmatrix}0.   &   0.  &   -0.201\\\\\n",
    " 0.   &  -0.    &  0.0007 \\\\\n",
    " 0.1922 & -0.0042 & 1.    \\end{bmatrix}$$\n",
    " \n",
    " Sample Output:\n",
    " \n",
    "![](results/1_2_1.png)"
   ]
  },
  {
   "cell_type": "markdown",
   "metadata": {
    "deletable": false,
    "nbgrader": {
     "cell_type": "markdown",
     "checksum": "987a23f38772f7e51396f83c1e4422a3",
     "grade": true,
     "grade_id": "cell-0901094d90d5ee50",
     "locked": false,
     "points": 5,
     "schema_version": 3,
     "solution": true,
     "task": false
    }
   },
   "source": [
    "### Q2.2 Triangulation and find M2 \n",
    "\n",
    "<span style='color:red'>**Output:**</span> In your write-up: Write down the expression for the matrix $\\mathbf{A}_i$\n",
    "\n",
    "**Answer:**\n",
    "\n",
    "Consider the left camera image pixel be $\\begin{bmatrix}u_2^i & v_2^i\\end{bmatrix}$ and the corresponding right camera image pixel be $\\begin{bmatrix}u_1^i & v_1^i\\end{bmatrix}$ for some ith correspondence. Let $C2$ be the projection matrix for the left camera and $C1$ be the projection matrix for the right camera.\n",
    "\n",
    "Then,\n",
    "    $$\\mathbf{A}_i = \n",
    "    \\begin{bmatrix}\n",
    "    u_1^iC1_{31} - C1_{11} & u_1^iC1_{32} - C1_{12} & u_1^iC1_{33} - C1_{13} & u_1^iC1_{34} - C1_{14}\\\\\n",
    "    v_1^iC1_{31} - C1_{21} & v_1^iC1_{32} - C1_{22} & v_1^iC1_{33} - C1_{23} & v_1^iC1_{34} - C1_{24}\\\\\n",
    "    u_2^iC2_{31} - C2_{11} & u_2^iC2_{32} - C2_{12} & u_2^iC2_{33} - C2_{13} & u_2^iC2_{34} - C2_{14}\\\\\n",
    "    v_2^iC2_{31} - C2_{21} & v_2^iC2_{32} - C2_{22} & v_2^iC2_{33} - C2_{23} & v_2^iC2_{34} - C2_{24}\n",
    "    \\end{bmatrix}$$"
   ]
  },
  {
   "cell_type": "markdown",
   "metadata": {
    "deletable": false,
    "nbgrader": {
     "cell_type": "markdown",
     "checksum": "67c45385147d9268ff59e77d9bde9e5e",
     "grade": true,
     "grade_id": "cell-12709527c18b3146",
     "locked": false,
     "points": 5,
     "schema_version": 3,
     "solution": true,
     "task": false
    }
   },
   "source": [
    "### Q2.3 Epipolar Correspondence\n",
    "\n",
    "<span style='color:red'>**Output:**</span> In your write-up, include a screenshot of `epipolarMatchGUI`\n",
    "with some detected correspondences.\n",
    "\n",
    "\n",
    "**Answer:**\n",
    "\n",
    "<!-- <img src='results/2_2_1.png'> -->\n",
    "![](results/2_2_1.png)"
   ]
  },
  {
   "cell_type": "markdown",
   "metadata": {
    "deletable": false,
    "nbgrader": {
     "cell_type": "markdown",
     "checksum": "4c4001adbf37eb9dcc25149c1e08f3ab",
     "grade": true,
     "grade_id": "cell-5ef8e705d153cda0",
     "locked": false,
     "points": 3,
     "schema_version": 3,
     "solution": true,
     "task": false
    }
   },
   "source": [
    "### Q2.4 3D Visualization\n",
    "\n",
    "<span style='color:red'>**Output:**</span> In your write-up: Take a few screenshots of the 3D visualization\n",
    "so that the outline of the temple is clearly visible.\n",
    "\n",
    "**Answer:**\n",
    "\n",
    "<!-- <img src='results/2_3_2.png' width='700px'> -->\n",
    "![](results/2_3_2.png)\n",
    "\n",
    "<!-- <img src='results/2_3_3.png' width='700px'> -->\n",
    "![](results/2_3_3.png)\n",
    "\n",
    "<!-- <img src='results/2_3_4.png' width='700px'> -->\n",
    "![](results/2_3_4.png)"
   ]
  },
  {
   "cell_type": "markdown",
   "metadata": {
    "deletable": false,
    "nbgrader": {
     "cell_type": "markdown",
     "checksum": "7779b124a0b636e99859c8c9384b4b0b",
     "grade": true,
     "grade_id": "cell-776fd721d9eadbac",
     "locked": false,
     "points": 10,
     "schema_version": 3,
     "solution": true,
     "task": false
    }
   },
   "source": [
    "### Q3.3 Bundle Adjustment\n",
    "\n",
    "<span style='color:red'>**Output:**</span> In your write-up: include an image of output of the `plot_3D_dual` function by passing in the original 3D points and the optimized points. Also include the before and after reprojection error for the `rodriguesResidual` function."
   ]
  },
  {
   "cell_type": "code",
   "execution_count": 1,
   "metadata": {},
   "outputs": [],
   "source": [
    "def rodriguesResidual(x, K1, M1, p1, K2, p2):\n",
    "    '''\n",
    "    Q3.3: Rodrigues residual.\n",
    "        Input:\n",
    "                x, the flattened concatenationg of P, r2, and t2.  \n",
    "                K1, the intrinsics of camera 1\n",
    "                M1, the extrinsics of camera 1\n",
    "                p1, the 2D coordinates of points in image 1\n",
    "                K2, the intrinsics of camera 2\n",
    "                p2, the 2D coordinates of points in image 2\n",
    "        Output: residuals, 4N x 1 vector, the difference between original \n",
    "                and estimated projections\n",
    "    '''    \n",
    "    N = p1.shape[0]\n",
    "        \n",
    "    x_alt = x.reshape((N + 2), 3)\n",
    "    \n",
    "    r = x_alt[-2].reshape(-1, 1)\n",
    "    t = x_alt[-1].reshape(-1, 1)\n",
    "    w = x_alt[: -2]\n",
    "    w_h = np.hstack((w, np.ones(w.shape[0]).reshape(-1, 1)))\n",
    "    \n",
    "    M2 = np.hstack((rodrigues(r.flatten()), t))    \n",
    "    C1 = K1 @ M1\n",
    "    C2 = K2 @ M2\n",
    "    \n",
    "    p1_alt = (C1 @ w_h.T).T\n",
    "    p2_alt = (C2 @ w_h.T).T\n",
    "    \n",
    "    \n",
    "    p1_alt = p1_alt / p1_alt[:, -1].reshape(-1, 1)\n",
    "    p2_alt = p2_alt / p2_alt[:, -1].reshape(-1, 1)\n",
    "    \n",
    "    p1_alt = p1_alt[:, : -1]\n",
    "    p2_alt = p2_alt[:, : -1]\n",
    "\n",
    "    residuals = np.concatenate([(p1 - p1_alt).reshape(-1), (p2 - p2_alt).reshape(-1)])\n",
    "    \n",
    "    return residuals\n",
    "\n",
    "\n",
    "def bundleAdjustment(K1, M1, p1, K2, M2_init, p2, P_init):\n",
    "    '''\n",
    "    Q3.3 Bundle adjustment.\n",
    "        Input:  K1, the intrinsics of camera 1\n",
    "                M1, the extrinsics of camera 1\n",
    "                p1, the 2D coordinates of points in image 1\n",
    "                K2,  the intrinsics of camera 2\n",
    "                M2_init, the initial extrinsics of camera 1\n",
    "                p2, the 2D coordinates of points in image 2\n",
    "                P_init, the initial 3D coordinates of points\n",
    "        Output: M2, the optimized extrinsics of camera 1\n",
    "                P2, the optimized 3D coordinates of points\n",
    "                o1, the starting objective function value with the initial input\n",
    "                o2, the ending objective function value after bundle adjustment\n",
    "    \n",
    "    ***\n",
    "    Hints:\n",
    "    (1) Use the scipy.optimize.minimize function to minimize the objective function, rodriguesResidual. \n",
    "        You can try different (method='..') in scipy.optimize.minimize for best results. \n",
    "    '''\n",
    "    obj_start = obj_end = 0\n",
    "    \n",
    "    R = M2_init[:, :-1]\n",
    "    r = invRodrigues(R).reshape(1, -1)\n",
    "    t = M2_init[:, -1].reshape(1, -1)\n",
    "    \n",
    "    x_init = np.vstack((P_init, r, t)).flatten()\n",
    "    \n",
    "    obj_start = np.sum(rodriguesResidual(x_init, K1, M1, p1, K2, p2) ** 2)\n",
    "    \n",
    "    x, _ = optimize.leastsq(rodriguesResidual, x_init, args=(K1, M1, p1, K2, p2))\n",
    "    \n",
    "    x_alt = x.reshape(-1, 3)\n",
    "    r = x_alt[-2].reshape(-1, 1)\n",
    "    t = x_alt[-1].reshape(-1, 1)\n",
    "    P = x_alt[: -2]\n",
    "    P = P / P[:, -1].reshape(-1, 1)\n",
    "    M2 = np.hstack((rodrigues(r.flatten()), t))  \n",
    "    \n",
    "    obj_end = np.sum(rodriguesResidual(x, K1, M1, p1, K2, p2) ** 2)\n",
    "    \n",
    "    return M2, P, obj_start, obj_end\n"
   ]
  },
  {
   "cell_type": "markdown",
   "metadata": {},
   "source": [
    "Reprojection errors - Before: 1776.832629611452, After: 8.827926861402842\n",
    "\n",
    "<!-- <img src='results/3_3_1.png' width='700px'> -->\n",
    "<!-- <img src='results/3_3_2.png'> -->\n",
    "![](results/3_3_2.png)"
   ]
  }
 ],
 "metadata": {
  "kernelspec": {
   "display_name": "Python 3 (ipykernel)",
   "language": "python",
   "name": "python3"
  },
  "language_info": {
   "codemirror_mode": {
    "name": "ipython",
    "version": 3
   },
   "file_extension": ".py",
   "mimetype": "text/x-python",
   "name": "python",
   "nbconvert_exporter": "python",
   "pygments_lexer": "ipython3",
   "version": "3.8.10"
  },
  "toc": {
   "base_numbering": 1,
   "nav_menu": {},
   "number_sections": false,
   "sideBar": true,
   "skip_h1_title": false,
   "title_cell": "Table of Contents",
   "title_sidebar": "Contents",
   "toc_cell": false,
   "toc_position": {},
   "toc_section_display": true,
   "toc_window_display": true
  }
 },
 "nbformat": 4,
 "nbformat_minor": 2
}
